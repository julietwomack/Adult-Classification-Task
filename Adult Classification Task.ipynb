{
 "cells": [
  {
   "cell_type": "markdown",
   "metadata": {},
   "source": [
    "# Task: Classification"
   ]
  },
  {
   "cell_type": "markdown",
   "metadata": {},
   "source": [
    "The following classifcation task is to predict someone makes over $50k/year or not. The data is from the UCI Machine Learning Repository and contains 15 features:\n",
    "\n",
    "1. Age\n",
    "2. Workclass\n",
    "3. Fnlwgt\n",
    "4. Education\n",
    "5. Education-num\n",
    "6. Marital Status\n",
    "7. Occupation\n",
    "8. Relationship\n",
    "9. Race\n",
    "10. Sex\n",
    "11. Capital-gain\n",
    "12. Capital-loss\n",
    "13. Hours-per-week\n",
    "14. Native Country\n",
    "15. Income_cat (target feature)"
   ]
  },
  {
   "cell_type": "markdown",
   "metadata": {},
   "source": [
    "# Load in libraries and data"
   ]
  },
  {
   "cell_type": "code",
   "execution_count": 1,
   "metadata": {},
   "outputs": [],
   "source": [
    "# Libraries\n",
    "import numpy as np\n",
    "import pandas as pd\n",
    "import matplotlib.pyplot as plt\n",
    "import seaborn as sns\n",
    "from sklearn.compose import ColumnTransformer\n",
    "from sklearn.preprocessing import StandardScaler, MinMaxScaler, LabelBinarizer\n",
    "from sklearn.pipeline import Pipeline\n",
    "from sklearn.model_selection import train_test_split, KFold, cross_val_score, GridSearchCV\n",
    "from sklearn.metrics import confusion_matrix, classification_report, accuracy_score\n",
    "from sklearn.linear_model import LogisticRegression\n",
    "from sklearn.tree import DecisionTreeClassifier\n",
    "from sklearn.neighbors import KNeighborsClassifier\n",
    "from sklearn.discriminant_analysis import LinearDiscriminantAnalysis\n",
    "from sklearn.naive_bayes import GaussianNB\n",
    "from sklearn.svm import SVC\n",
    "from sklearn.ensemble import AdaBoostClassifier, GradientBoostingClassifier, RandomForestClassifier, ExtraTreesClassifier\n",
    "\n",
    "# Settings\n",
    "pd.options.mode.chained_assignment = None "
   ]
  },
  {
   "cell_type": "code",
   "execution_count": 2,
   "metadata": {},
   "outputs": [],
   "source": [
    "# Read in dataset\n",
    "adult = pd.read_csv('adult.data', names = ['Age','Work_class', 'Fnlwgt', 'Education', 'Education_num',\n",
    "                                  'Marital_status', 'Occupation', 'Relationship','Race',\n",
    "                                  'Sex', 'Capital_gain', 'Capital_loss', 'Hours_per_week',\n",
    "                                  'Native_country', 'Income_cat'])"
   ]
  },
  {
   "cell_type": "markdown",
   "metadata": {},
   "source": [
    "# Descriptive statistics"
   ]
  },
  {
   "cell_type": "code",
   "execution_count": 3,
   "metadata": {},
   "outputs": [
    {
     "data": {
      "text/plain": [
       "(32561, 15)"
      ]
     },
     "execution_count": 3,
     "metadata": {},
     "output_type": "execute_result"
    }
   ],
   "source": [
    "# shape of the data: 32,561 rows and 15 columns\n",
    "adult.shape"
   ]
  },
  {
   "cell_type": "code",
   "execution_count": 4,
   "metadata": {},
   "outputs": [
    {
     "data": {
      "text/html": [
       "<div>\n",
       "<style scoped>\n",
       "    .dataframe tbody tr th:only-of-type {\n",
       "        vertical-align: middle;\n",
       "    }\n",
       "\n",
       "    .dataframe tbody tr th {\n",
       "        vertical-align: top;\n",
       "    }\n",
       "\n",
       "    .dataframe thead th {\n",
       "        text-align: right;\n",
       "    }\n",
       "</style>\n",
       "<table border=\"1\" class=\"dataframe\">\n",
       "  <thead>\n",
       "    <tr style=\"text-align: right;\">\n",
       "      <th></th>\n",
       "      <th>Age</th>\n",
       "      <th>Work_class</th>\n",
       "      <th>Fnlwgt</th>\n",
       "      <th>Education</th>\n",
       "      <th>Education_num</th>\n",
       "      <th>Marital_status</th>\n",
       "      <th>Occupation</th>\n",
       "      <th>Relationship</th>\n",
       "      <th>Race</th>\n",
       "      <th>Sex</th>\n",
       "      <th>Capital_gain</th>\n",
       "      <th>Capital_loss</th>\n",
       "      <th>Hours_per_week</th>\n",
       "      <th>Native_country</th>\n",
       "      <th>Income_cat</th>\n",
       "    </tr>\n",
       "  </thead>\n",
       "  <tbody>\n",
       "    <tr>\n",
       "      <th>0</th>\n",
       "      <td>39</td>\n",
       "      <td>State-gov</td>\n",
       "      <td>77516</td>\n",
       "      <td>Bachelors</td>\n",
       "      <td>13</td>\n",
       "      <td>Never-married</td>\n",
       "      <td>Adm-clerical</td>\n",
       "      <td>Not-in-family</td>\n",
       "      <td>White</td>\n",
       "      <td>Male</td>\n",
       "      <td>2174</td>\n",
       "      <td>0</td>\n",
       "      <td>40</td>\n",
       "      <td>United-States</td>\n",
       "      <td>&lt;=50K</td>\n",
       "    </tr>\n",
       "    <tr>\n",
       "      <th>1</th>\n",
       "      <td>50</td>\n",
       "      <td>Self-emp-not-inc</td>\n",
       "      <td>83311</td>\n",
       "      <td>Bachelors</td>\n",
       "      <td>13</td>\n",
       "      <td>Married-civ-spouse</td>\n",
       "      <td>Exec-managerial</td>\n",
       "      <td>Husband</td>\n",
       "      <td>White</td>\n",
       "      <td>Male</td>\n",
       "      <td>0</td>\n",
       "      <td>0</td>\n",
       "      <td>13</td>\n",
       "      <td>United-States</td>\n",
       "      <td>&lt;=50K</td>\n",
       "    </tr>\n",
       "    <tr>\n",
       "      <th>2</th>\n",
       "      <td>38</td>\n",
       "      <td>Private</td>\n",
       "      <td>215646</td>\n",
       "      <td>HS-grad</td>\n",
       "      <td>9</td>\n",
       "      <td>Divorced</td>\n",
       "      <td>Handlers-cleaners</td>\n",
       "      <td>Not-in-family</td>\n",
       "      <td>White</td>\n",
       "      <td>Male</td>\n",
       "      <td>0</td>\n",
       "      <td>0</td>\n",
       "      <td>40</td>\n",
       "      <td>United-States</td>\n",
       "      <td>&lt;=50K</td>\n",
       "    </tr>\n",
       "    <tr>\n",
       "      <th>3</th>\n",
       "      <td>53</td>\n",
       "      <td>Private</td>\n",
       "      <td>234721</td>\n",
       "      <td>11th</td>\n",
       "      <td>7</td>\n",
       "      <td>Married-civ-spouse</td>\n",
       "      <td>Handlers-cleaners</td>\n",
       "      <td>Husband</td>\n",
       "      <td>Black</td>\n",
       "      <td>Male</td>\n",
       "      <td>0</td>\n",
       "      <td>0</td>\n",
       "      <td>40</td>\n",
       "      <td>United-States</td>\n",
       "      <td>&lt;=50K</td>\n",
       "    </tr>\n",
       "    <tr>\n",
       "      <th>4</th>\n",
       "      <td>28</td>\n",
       "      <td>Private</td>\n",
       "      <td>338409</td>\n",
       "      <td>Bachelors</td>\n",
       "      <td>13</td>\n",
       "      <td>Married-civ-spouse</td>\n",
       "      <td>Prof-specialty</td>\n",
       "      <td>Wife</td>\n",
       "      <td>Black</td>\n",
       "      <td>Female</td>\n",
       "      <td>0</td>\n",
       "      <td>0</td>\n",
       "      <td>40</td>\n",
       "      <td>Cuba</td>\n",
       "      <td>&lt;=50K</td>\n",
       "    </tr>\n",
       "    <tr>\n",
       "      <th>5</th>\n",
       "      <td>37</td>\n",
       "      <td>Private</td>\n",
       "      <td>284582</td>\n",
       "      <td>Masters</td>\n",
       "      <td>14</td>\n",
       "      <td>Married-civ-spouse</td>\n",
       "      <td>Exec-managerial</td>\n",
       "      <td>Wife</td>\n",
       "      <td>White</td>\n",
       "      <td>Female</td>\n",
       "      <td>0</td>\n",
       "      <td>0</td>\n",
       "      <td>40</td>\n",
       "      <td>United-States</td>\n",
       "      <td>&lt;=50K</td>\n",
       "    </tr>\n",
       "    <tr>\n",
       "      <th>6</th>\n",
       "      <td>49</td>\n",
       "      <td>Private</td>\n",
       "      <td>160187</td>\n",
       "      <td>9th</td>\n",
       "      <td>5</td>\n",
       "      <td>Married-spouse-absent</td>\n",
       "      <td>Other-service</td>\n",
       "      <td>Not-in-family</td>\n",
       "      <td>Black</td>\n",
       "      <td>Female</td>\n",
       "      <td>0</td>\n",
       "      <td>0</td>\n",
       "      <td>16</td>\n",
       "      <td>Jamaica</td>\n",
       "      <td>&lt;=50K</td>\n",
       "    </tr>\n",
       "    <tr>\n",
       "      <th>7</th>\n",
       "      <td>52</td>\n",
       "      <td>Self-emp-not-inc</td>\n",
       "      <td>209642</td>\n",
       "      <td>HS-grad</td>\n",
       "      <td>9</td>\n",
       "      <td>Married-civ-spouse</td>\n",
       "      <td>Exec-managerial</td>\n",
       "      <td>Husband</td>\n",
       "      <td>White</td>\n",
       "      <td>Male</td>\n",
       "      <td>0</td>\n",
       "      <td>0</td>\n",
       "      <td>45</td>\n",
       "      <td>United-States</td>\n",
       "      <td>&gt;50K</td>\n",
       "    </tr>\n",
       "    <tr>\n",
       "      <th>8</th>\n",
       "      <td>31</td>\n",
       "      <td>Private</td>\n",
       "      <td>45781</td>\n",
       "      <td>Masters</td>\n",
       "      <td>14</td>\n",
       "      <td>Never-married</td>\n",
       "      <td>Prof-specialty</td>\n",
       "      <td>Not-in-family</td>\n",
       "      <td>White</td>\n",
       "      <td>Female</td>\n",
       "      <td>14084</td>\n",
       "      <td>0</td>\n",
       "      <td>50</td>\n",
       "      <td>United-States</td>\n",
       "      <td>&gt;50K</td>\n",
       "    </tr>\n",
       "    <tr>\n",
       "      <th>9</th>\n",
       "      <td>42</td>\n",
       "      <td>Private</td>\n",
       "      <td>159449</td>\n",
       "      <td>Bachelors</td>\n",
       "      <td>13</td>\n",
       "      <td>Married-civ-spouse</td>\n",
       "      <td>Exec-managerial</td>\n",
       "      <td>Husband</td>\n",
       "      <td>White</td>\n",
       "      <td>Male</td>\n",
       "      <td>5178</td>\n",
       "      <td>0</td>\n",
       "      <td>40</td>\n",
       "      <td>United-States</td>\n",
       "      <td>&gt;50K</td>\n",
       "    </tr>\n",
       "    <tr>\n",
       "      <th>10</th>\n",
       "      <td>37</td>\n",
       "      <td>Private</td>\n",
       "      <td>280464</td>\n",
       "      <td>Some-college</td>\n",
       "      <td>10</td>\n",
       "      <td>Married-civ-spouse</td>\n",
       "      <td>Exec-managerial</td>\n",
       "      <td>Husband</td>\n",
       "      <td>Black</td>\n",
       "      <td>Male</td>\n",
       "      <td>0</td>\n",
       "      <td>0</td>\n",
       "      <td>80</td>\n",
       "      <td>United-States</td>\n",
       "      <td>&gt;50K</td>\n",
       "    </tr>\n",
       "    <tr>\n",
       "      <th>11</th>\n",
       "      <td>30</td>\n",
       "      <td>State-gov</td>\n",
       "      <td>141297</td>\n",
       "      <td>Bachelors</td>\n",
       "      <td>13</td>\n",
       "      <td>Married-civ-spouse</td>\n",
       "      <td>Prof-specialty</td>\n",
       "      <td>Husband</td>\n",
       "      <td>Asian-Pac-Islander</td>\n",
       "      <td>Male</td>\n",
       "      <td>0</td>\n",
       "      <td>0</td>\n",
       "      <td>40</td>\n",
       "      <td>India</td>\n",
       "      <td>&gt;50K</td>\n",
       "    </tr>\n",
       "    <tr>\n",
       "      <th>12</th>\n",
       "      <td>23</td>\n",
       "      <td>Private</td>\n",
       "      <td>122272</td>\n",
       "      <td>Bachelors</td>\n",
       "      <td>13</td>\n",
       "      <td>Never-married</td>\n",
       "      <td>Adm-clerical</td>\n",
       "      <td>Own-child</td>\n",
       "      <td>White</td>\n",
       "      <td>Female</td>\n",
       "      <td>0</td>\n",
       "      <td>0</td>\n",
       "      <td>30</td>\n",
       "      <td>United-States</td>\n",
       "      <td>&lt;=50K</td>\n",
       "    </tr>\n",
       "    <tr>\n",
       "      <th>13</th>\n",
       "      <td>32</td>\n",
       "      <td>Private</td>\n",
       "      <td>205019</td>\n",
       "      <td>Assoc-acdm</td>\n",
       "      <td>12</td>\n",
       "      <td>Never-married</td>\n",
       "      <td>Sales</td>\n",
       "      <td>Not-in-family</td>\n",
       "      <td>Black</td>\n",
       "      <td>Male</td>\n",
       "      <td>0</td>\n",
       "      <td>0</td>\n",
       "      <td>50</td>\n",
       "      <td>United-States</td>\n",
       "      <td>&lt;=50K</td>\n",
       "    </tr>\n",
       "    <tr>\n",
       "      <th>14</th>\n",
       "      <td>40</td>\n",
       "      <td>Private</td>\n",
       "      <td>121772</td>\n",
       "      <td>Assoc-voc</td>\n",
       "      <td>11</td>\n",
       "      <td>Married-civ-spouse</td>\n",
       "      <td>Craft-repair</td>\n",
       "      <td>Husband</td>\n",
       "      <td>Asian-Pac-Islander</td>\n",
       "      <td>Male</td>\n",
       "      <td>0</td>\n",
       "      <td>0</td>\n",
       "      <td>40</td>\n",
       "      <td>?</td>\n",
       "      <td>&gt;50K</td>\n",
       "    </tr>\n",
       "    <tr>\n",
       "      <th>15</th>\n",
       "      <td>34</td>\n",
       "      <td>Private</td>\n",
       "      <td>245487</td>\n",
       "      <td>7th-8th</td>\n",
       "      <td>4</td>\n",
       "      <td>Married-civ-spouse</td>\n",
       "      <td>Transport-moving</td>\n",
       "      <td>Husband</td>\n",
       "      <td>Amer-Indian-Eskimo</td>\n",
       "      <td>Male</td>\n",
       "      <td>0</td>\n",
       "      <td>0</td>\n",
       "      <td>45</td>\n",
       "      <td>Mexico</td>\n",
       "      <td>&lt;=50K</td>\n",
       "    </tr>\n",
       "    <tr>\n",
       "      <th>16</th>\n",
       "      <td>25</td>\n",
       "      <td>Self-emp-not-inc</td>\n",
       "      <td>176756</td>\n",
       "      <td>HS-grad</td>\n",
       "      <td>9</td>\n",
       "      <td>Never-married</td>\n",
       "      <td>Farming-fishing</td>\n",
       "      <td>Own-child</td>\n",
       "      <td>White</td>\n",
       "      <td>Male</td>\n",
       "      <td>0</td>\n",
       "      <td>0</td>\n",
       "      <td>35</td>\n",
       "      <td>United-States</td>\n",
       "      <td>&lt;=50K</td>\n",
       "    </tr>\n",
       "    <tr>\n",
       "      <th>17</th>\n",
       "      <td>32</td>\n",
       "      <td>Private</td>\n",
       "      <td>186824</td>\n",
       "      <td>HS-grad</td>\n",
       "      <td>9</td>\n",
       "      <td>Never-married</td>\n",
       "      <td>Machine-op-inspct</td>\n",
       "      <td>Unmarried</td>\n",
       "      <td>White</td>\n",
       "      <td>Male</td>\n",
       "      <td>0</td>\n",
       "      <td>0</td>\n",
       "      <td>40</td>\n",
       "      <td>United-States</td>\n",
       "      <td>&lt;=50K</td>\n",
       "    </tr>\n",
       "    <tr>\n",
       "      <th>18</th>\n",
       "      <td>38</td>\n",
       "      <td>Private</td>\n",
       "      <td>28887</td>\n",
       "      <td>11th</td>\n",
       "      <td>7</td>\n",
       "      <td>Married-civ-spouse</td>\n",
       "      <td>Sales</td>\n",
       "      <td>Husband</td>\n",
       "      <td>White</td>\n",
       "      <td>Male</td>\n",
       "      <td>0</td>\n",
       "      <td>0</td>\n",
       "      <td>50</td>\n",
       "      <td>United-States</td>\n",
       "      <td>&lt;=50K</td>\n",
       "    </tr>\n",
       "    <tr>\n",
       "      <th>19</th>\n",
       "      <td>43</td>\n",
       "      <td>Self-emp-not-inc</td>\n",
       "      <td>292175</td>\n",
       "      <td>Masters</td>\n",
       "      <td>14</td>\n",
       "      <td>Divorced</td>\n",
       "      <td>Exec-managerial</td>\n",
       "      <td>Unmarried</td>\n",
       "      <td>White</td>\n",
       "      <td>Female</td>\n",
       "      <td>0</td>\n",
       "      <td>0</td>\n",
       "      <td>45</td>\n",
       "      <td>United-States</td>\n",
       "      <td>&gt;50K</td>\n",
       "    </tr>\n",
       "  </tbody>\n",
       "</table>\n",
       "</div>"
      ],
      "text/plain": [
       "    Age         Work_class  Fnlwgt      Education  Education_num  \\\n",
       "0    39          State-gov   77516      Bachelors             13   \n",
       "1    50   Self-emp-not-inc   83311      Bachelors             13   \n",
       "2    38            Private  215646        HS-grad              9   \n",
       "3    53            Private  234721           11th              7   \n",
       "4    28            Private  338409      Bachelors             13   \n",
       "5    37            Private  284582        Masters             14   \n",
       "6    49            Private  160187            9th              5   \n",
       "7    52   Self-emp-not-inc  209642        HS-grad              9   \n",
       "8    31            Private   45781        Masters             14   \n",
       "9    42            Private  159449      Bachelors             13   \n",
       "10   37            Private  280464   Some-college             10   \n",
       "11   30          State-gov  141297      Bachelors             13   \n",
       "12   23            Private  122272      Bachelors             13   \n",
       "13   32            Private  205019     Assoc-acdm             12   \n",
       "14   40            Private  121772      Assoc-voc             11   \n",
       "15   34            Private  245487        7th-8th              4   \n",
       "16   25   Self-emp-not-inc  176756        HS-grad              9   \n",
       "17   32            Private  186824        HS-grad              9   \n",
       "18   38            Private   28887           11th              7   \n",
       "19   43   Self-emp-not-inc  292175        Masters             14   \n",
       "\n",
       "            Marital_status          Occupation    Relationship  \\\n",
       "0            Never-married        Adm-clerical   Not-in-family   \n",
       "1       Married-civ-spouse     Exec-managerial         Husband   \n",
       "2                 Divorced   Handlers-cleaners   Not-in-family   \n",
       "3       Married-civ-spouse   Handlers-cleaners         Husband   \n",
       "4       Married-civ-spouse      Prof-specialty            Wife   \n",
       "5       Married-civ-spouse     Exec-managerial            Wife   \n",
       "6    Married-spouse-absent       Other-service   Not-in-family   \n",
       "7       Married-civ-spouse     Exec-managerial         Husband   \n",
       "8            Never-married      Prof-specialty   Not-in-family   \n",
       "9       Married-civ-spouse     Exec-managerial         Husband   \n",
       "10      Married-civ-spouse     Exec-managerial         Husband   \n",
       "11      Married-civ-spouse      Prof-specialty         Husband   \n",
       "12           Never-married        Adm-clerical       Own-child   \n",
       "13           Never-married               Sales   Not-in-family   \n",
       "14      Married-civ-spouse        Craft-repair         Husband   \n",
       "15      Married-civ-spouse    Transport-moving         Husband   \n",
       "16           Never-married     Farming-fishing       Own-child   \n",
       "17           Never-married   Machine-op-inspct       Unmarried   \n",
       "18      Married-civ-spouse               Sales         Husband   \n",
       "19                Divorced     Exec-managerial       Unmarried   \n",
       "\n",
       "                   Race      Sex  Capital_gain  Capital_loss  Hours_per_week  \\\n",
       "0                 White     Male          2174             0              40   \n",
       "1                 White     Male             0             0              13   \n",
       "2                 White     Male             0             0              40   \n",
       "3                 Black     Male             0             0              40   \n",
       "4                 Black   Female             0             0              40   \n",
       "5                 White   Female             0             0              40   \n",
       "6                 Black   Female             0             0              16   \n",
       "7                 White     Male             0             0              45   \n",
       "8                 White   Female         14084             0              50   \n",
       "9                 White     Male          5178             0              40   \n",
       "10                Black     Male             0             0              80   \n",
       "11   Asian-Pac-Islander     Male             0             0              40   \n",
       "12                White   Female             0             0              30   \n",
       "13                Black     Male             0             0              50   \n",
       "14   Asian-Pac-Islander     Male             0             0              40   \n",
       "15   Amer-Indian-Eskimo     Male             0             0              45   \n",
       "16                White     Male             0             0              35   \n",
       "17                White     Male             0             0              40   \n",
       "18                White     Male             0             0              50   \n",
       "19                White   Female             0             0              45   \n",
       "\n",
       "    Native_country Income_cat  \n",
       "0    United-States      <=50K  \n",
       "1    United-States      <=50K  \n",
       "2    United-States      <=50K  \n",
       "3    United-States      <=50K  \n",
       "4             Cuba      <=50K  \n",
       "5    United-States      <=50K  \n",
       "6          Jamaica      <=50K  \n",
       "7    United-States       >50K  \n",
       "8    United-States       >50K  \n",
       "9    United-States       >50K  \n",
       "10   United-States       >50K  \n",
       "11           India       >50K  \n",
       "12   United-States      <=50K  \n",
       "13   United-States      <=50K  \n",
       "14               ?       >50K  \n",
       "15          Mexico      <=50K  \n",
       "16   United-States      <=50K  \n",
       "17   United-States      <=50K  \n",
       "18   United-States      <=50K  \n",
       "19   United-States       >50K  "
      ]
     },
     "execution_count": 4,
     "metadata": {},
     "output_type": "execute_result"
    }
   ],
   "source": [
    "# first 20 rows: Mix of quanitative and qualitative variables\n",
    "adult.head(20)"
   ]
  },
  {
   "cell_type": "code",
   "execution_count": 5,
   "metadata": {},
   "outputs": [
    {
     "data": {
      "text/plain": [
       "Age                int64\n",
       "Work_class        object\n",
       "Fnlwgt             int64\n",
       "Education         object\n",
       "Education_num      int64\n",
       "Marital_status    object\n",
       "Occupation        object\n",
       "Relationship      object\n",
       "Race              object\n",
       "Sex               object\n",
       "Capital_gain       int64\n",
       "Capital_loss       int64\n",
       "Hours_per_week     int64\n",
       "Native_country    object\n",
       "Income_cat        object\n",
       "dtype: object"
      ]
     },
     "execution_count": 5,
     "metadata": {},
     "output_type": "execute_result"
    }
   ],
   "source": [
    "# Data Types: 6 int64 and 9 object\n",
    "adult.dtypes"
   ]
  },
  {
   "cell_type": "code",
   "execution_count": 6,
   "metadata": {
    "scrolled": true
   },
   "outputs": [
    {
     "data": {
      "text/html": [
       "<div>\n",
       "<style scoped>\n",
       "    .dataframe tbody tr th:only-of-type {\n",
       "        vertical-align: middle;\n",
       "    }\n",
       "\n",
       "    .dataframe tbody tr th {\n",
       "        vertical-align: top;\n",
       "    }\n",
       "\n",
       "    .dataframe thead th {\n",
       "        text-align: right;\n",
       "    }\n",
       "</style>\n",
       "<table border=\"1\" class=\"dataframe\">\n",
       "  <thead>\n",
       "    <tr style=\"text-align: right;\">\n",
       "      <th></th>\n",
       "      <th>Age</th>\n",
       "      <th>Fnlwgt</th>\n",
       "      <th>Education_num</th>\n",
       "      <th>Capital_gain</th>\n",
       "      <th>Capital_loss</th>\n",
       "      <th>Hours_per_week</th>\n",
       "    </tr>\n",
       "  </thead>\n",
       "  <tbody>\n",
       "    <tr>\n",
       "      <th>count</th>\n",
       "      <td>32561.000000</td>\n",
       "      <td>3.256100e+04</td>\n",
       "      <td>32561.000000</td>\n",
       "      <td>32561.000000</td>\n",
       "      <td>32561.000000</td>\n",
       "      <td>32561.000000</td>\n",
       "    </tr>\n",
       "    <tr>\n",
       "      <th>mean</th>\n",
       "      <td>38.581647</td>\n",
       "      <td>1.897784e+05</td>\n",
       "      <td>10.080679</td>\n",
       "      <td>1077.648844</td>\n",
       "      <td>87.303830</td>\n",
       "      <td>40.437456</td>\n",
       "    </tr>\n",
       "    <tr>\n",
       "      <th>std</th>\n",
       "      <td>13.640433</td>\n",
       "      <td>1.055500e+05</td>\n",
       "      <td>2.572720</td>\n",
       "      <td>7385.292085</td>\n",
       "      <td>402.960219</td>\n",
       "      <td>12.347429</td>\n",
       "    </tr>\n",
       "    <tr>\n",
       "      <th>min</th>\n",
       "      <td>17.000000</td>\n",
       "      <td>1.228500e+04</td>\n",
       "      <td>1.000000</td>\n",
       "      <td>0.000000</td>\n",
       "      <td>0.000000</td>\n",
       "      <td>1.000000</td>\n",
       "    </tr>\n",
       "    <tr>\n",
       "      <th>25%</th>\n",
       "      <td>28.000000</td>\n",
       "      <td>1.178270e+05</td>\n",
       "      <td>9.000000</td>\n",
       "      <td>0.000000</td>\n",
       "      <td>0.000000</td>\n",
       "      <td>40.000000</td>\n",
       "    </tr>\n",
       "    <tr>\n",
       "      <th>50%</th>\n",
       "      <td>37.000000</td>\n",
       "      <td>1.783560e+05</td>\n",
       "      <td>10.000000</td>\n",
       "      <td>0.000000</td>\n",
       "      <td>0.000000</td>\n",
       "      <td>40.000000</td>\n",
       "    </tr>\n",
       "    <tr>\n",
       "      <th>75%</th>\n",
       "      <td>48.000000</td>\n",
       "      <td>2.370510e+05</td>\n",
       "      <td>12.000000</td>\n",
       "      <td>0.000000</td>\n",
       "      <td>0.000000</td>\n",
       "      <td>45.000000</td>\n",
       "    </tr>\n",
       "    <tr>\n",
       "      <th>max</th>\n",
       "      <td>90.000000</td>\n",
       "      <td>1.484705e+06</td>\n",
       "      <td>16.000000</td>\n",
       "      <td>99999.000000</td>\n",
       "      <td>4356.000000</td>\n",
       "      <td>99.000000</td>\n",
       "    </tr>\n",
       "  </tbody>\n",
       "</table>\n",
       "</div>"
      ],
      "text/plain": [
       "                Age        Fnlwgt  Education_num  Capital_gain  Capital_loss  \\\n",
       "count  32561.000000  3.256100e+04   32561.000000  32561.000000  32561.000000   \n",
       "mean      38.581647  1.897784e+05      10.080679   1077.648844     87.303830   \n",
       "std       13.640433  1.055500e+05       2.572720   7385.292085    402.960219   \n",
       "min       17.000000  1.228500e+04       1.000000      0.000000      0.000000   \n",
       "25%       28.000000  1.178270e+05       9.000000      0.000000      0.000000   \n",
       "50%       37.000000  1.783560e+05      10.000000      0.000000      0.000000   \n",
       "75%       48.000000  2.370510e+05      12.000000      0.000000      0.000000   \n",
       "max       90.000000  1.484705e+06      16.000000  99999.000000   4356.000000   \n",
       "\n",
       "       Hours_per_week  \n",
       "count    32561.000000  \n",
       "mean        40.437456  \n",
       "std         12.347429  \n",
       "min          1.000000  \n",
       "25%         40.000000  \n",
       "50%         40.000000  \n",
       "75%         45.000000  \n",
       "max         99.000000  "
      ]
     },
     "execution_count": 6,
     "metadata": {},
     "output_type": "execute_result"
    }
   ],
   "source": [
    "# summary statistics: all numerical columns are in different units, thus transforming the data will be necessary\n",
    "adult.describe()"
   ]
  },
  {
   "cell_type": "code",
   "execution_count": 65,
   "metadata": {},
   "outputs": [
    {
     "name": "stdout",
     "output_type": "stream",
     "text": [
      " Private             22696\n",
      " Self-emp-not-inc     2541\n",
      " Local-gov            2093\n",
      " ?                    1836\n",
      " State-gov            1298\n",
      " Self-emp-inc         1116\n",
      " Federal-gov           960\n",
      " Without-pay            14\n",
      " Never-worked            7\n",
      "Name: Work_class, dtype: int64\n",
      "\n",
      " HS-grad         10501\n",
      " Some-college     7291\n",
      " Bachelors        5355\n",
      " Masters          1723\n",
      " Assoc-voc        1382\n",
      " 11th             1175\n",
      " Assoc-acdm       1067\n",
      " 10th              933\n",
      " 7th-8th           646\n",
      " Prof-school       576\n",
      " 9th               514\n",
      " 12th              433\n",
      " Doctorate         413\n",
      " 5th-6th           333\n",
      " 1st-4th           168\n",
      " Preschool          51\n",
      "Name: Education, dtype: int64\n",
      "\n",
      " Married-civ-spouse       14976\n",
      " Never-married            10683\n",
      " Divorced                  4443\n",
      " Separated                 1025\n",
      " Widowed                    993\n",
      " Married-spouse-absent      418\n",
      " Married-AF-spouse           23\n",
      "Name: Marital_status, dtype: int64\n",
      "\n",
      " Prof-specialty       4140\n",
      " Craft-repair         4099\n",
      " Exec-managerial      4066\n",
      " Adm-clerical         3770\n",
      " Sales                3650\n",
      " Other-service        3295\n",
      " Machine-op-inspct    2002\n",
      " ?                    1843\n",
      " Transport-moving     1597\n",
      " Handlers-cleaners    1370\n",
      " Farming-fishing       994\n",
      " Tech-support          928\n",
      " Protective-serv       649\n",
      " Priv-house-serv       149\n",
      " Armed-Forces            9\n",
      "Name: Occupation, dtype: int64\n",
      "\n",
      " Husband           13193\n",
      " Not-in-family      8305\n",
      " Own-child          5068\n",
      " Unmarried          3446\n",
      " Wife               1568\n",
      " Other-relative      981\n",
      "Name: Relationship, dtype: int64\n",
      "\n",
      " White                 27816\n",
      " Black                  3124\n",
      " Asian-Pac-Islander     1039\n",
      " Amer-Indian-Eskimo      311\n",
      " Other                   271\n",
      "Name: Race, dtype: int64\n",
      "\n",
      " Male      21790\n",
      " Female    10771\n",
      "Name: Sex, dtype: int64\n",
      "\n",
      " United-States                 29170\n",
      " Mexico                          643\n",
      " ?                               583\n",
      " Philippines                     198\n",
      " Germany                         137\n",
      " Canada                          121\n",
      " Puerto-Rico                     114\n",
      " El-Salvador                     106\n",
      " India                           100\n",
      " Cuba                             95\n",
      " England                          90\n",
      " Jamaica                          81\n",
      " South                            80\n",
      " China                            75\n",
      " Italy                            73\n",
      " Dominican-Republic               70\n",
      " Vietnam                          67\n",
      " Guatemala                        64\n",
      " Japan                            62\n",
      " Poland                           60\n",
      " Columbia                         59\n",
      " Taiwan                           51\n",
      " Haiti                            44\n",
      " Iran                             43\n",
      " Portugal                         37\n",
      " Nicaragua                        34\n",
      " Peru                             31\n",
      " Greece                           29\n",
      " France                           29\n",
      " Ecuador                          28\n",
      " Ireland                          24\n",
      " Hong                             20\n",
      " Trinadad&Tobago                  19\n",
      " Cambodia                         19\n",
      " Laos                             18\n",
      " Thailand                         18\n",
      " Yugoslavia                       16\n",
      " Outlying-US(Guam-USVI-etc)       14\n",
      " Hungary                          13\n",
      " Honduras                         13\n",
      " Scotland                         12\n",
      " Holand-Netherlands                1\n",
      "Name: Native_country, dtype: int64\n",
      "\n",
      " <=50K    24720\n",
      " >50K      7841\n",
      "Name: Income_cat, dtype: int64\n",
      "\n"
     ]
    }
   ],
   "source": [
    "# Print out each categorical variable\n",
    "object_var = ['Work_class', 'Education', \n",
    "              'Marital_status', 'Occupation', \n",
    "              'Relationship', 'Race', \n",
    "              'Sex', 'Native_country', 'Income_cat']\n",
    "\n",
    "for i in object_var:\n",
    "    print(adult[i].value_counts())\n",
    "    print()\n",
    "    "
   ]
  },
  {
   "cell_type": "code",
   "execution_count": 7,
   "metadata": {},
   "outputs": [
    {
     "data": {
      "text/plain": [
       "Income_cat\n",
       " <=50K    0.75919\n",
       " >50K     0.24081\n",
       "dtype: float64"
      ]
     },
     "execution_count": 7,
     "metadata": {},
     "output_type": "execute_result"
    }
   ],
   "source": [
    "# grouping of outcome/target variable Income_cat: there is a disproportionate amount of individuals who make \n",
    "# less that 50k vs more than 50k. During train-test-split, stratifying is needed.\n",
    "adult.groupby('Income_cat').size()/len(adult)"
   ]
  },
  {
   "cell_type": "markdown",
   "metadata": {},
   "source": [
    "# Visualizations"
   ]
  },
  {
   "cell_type": "code",
   "execution_count": 67,
   "metadata": {},
   "outputs": [
    {
     "data": {
      "image/png": "[encoded data removed]",
      "text/plain": [
       "<Figure size 720x504 with 6 Axes>"
      ]
     },
     "metadata": {
      "needs_background": "light"
     },
     "output_type": "display_data"
    },
    {
     "name": "stdout",
     "output_type": "stream",
     "text": [
      "Age                0.558743\n",
      "Fnlwgt             1.446980\n",
      "Education_num     -0.311676\n",
      "Capital_gain      11.953848\n",
      "Capital_loss       4.594629\n",
      "Hours_per_week     0.227643\n",
      "dtype: float64\n"
     ]
    }
   ],
   "source": [
    "# Histograms and skew:\n",
    "# Right skew: Age, fnlwgt, capital_gain, capital_loss\n",
    "# Left skew: Education_num\n",
    "# Approx symmetric: Hours_per_week\n",
    "adult.hist(figsize=(10,7), grid = False, edgecolor = 'black')\n",
    "plt.tight_layout()\n",
    "plt.show()\n",
    "\n",
    "print(adult.skew())"
   ]
  },
  {
   "cell_type": "code",
   "execution_count": 9,
   "metadata": {},
   "outputs": [
    {
     "data": {
      "image/png": "[encoded data removed]",
      "text/plain": [
       "<Figure size 720x504 with 6 Axes>"
      ]
     },
     "metadata": {
      "needs_background": "light"
     },
     "output_type": "display_data"
    }
   ],
   "source": [
    "# Density plots\n",
    "adult.plot(kind = 'density', subplots = True, layout = (3,2), figsize = (10, 7),\n",
    "          sharex = False, sharey = False)\n",
    "plt.tight_layout()\n",
    "plt.show()"
   ]
  },
  {
   "cell_type": "code",
   "execution_count": 12,
   "metadata": {},
   "outputs": [
    {
     "data": {
      "image/png": "[encoded data removed]",
      "text/plain": [
       "<Figure size 720x720 with 6 Axes>"
      ]
     },
     "metadata": {
      "needs_background": "light"
     },
     "output_type": "display_data"
    }
   ],
   "source": [
    "# Box plots: very apparent that multiple features have skewed distribitions (e.g., fnlwgt, capital_gain, and capital_loss)\n",
    "adult.plot(kind = 'box', subplots = True, layout = (3,2), figsize = (10, 10),\n",
    "          sharex = False, sharey = False)\n",
    "plt.tight_layout()\n",
    "plt.show()"
   ]
  },
  {
   "cell_type": "code",
   "execution_count": 13,
   "metadata": {},
   "outputs": [
    {
     "data": {
      "image/png": "[encoded data removed]",
      "text/plain": [
       "<Figure size 720x720 with 2 Axes>"
      ]
     },
     "metadata": {
      "needs_background": "light"
     },
     "output_type": "display_data"
    }
   ],
   "source": [
    "# Correlation matrix: none of the numerical features appear to be highly correlated with one another\n",
    "plt.figure(figsize=(10,10))\n",
    "sns.heatmap(adult.corr(), annot = True)\n",
    "plt.tight_layout()\n",
    "plt.show()"
   ]
  },
  {
   "cell_type": "markdown",
   "metadata": {},
   "source": [
    "# Splitting Data"
   ]
  },
  {
   "cell_type": "code",
   "execution_count": 14,
   "metadata": {},
   "outputs": [],
   "source": [
    "# Get columns for features (X) and target (y). Will drop Education_num since it is redundant of Education\n",
    "X = adult.drop(['Income_cat', 'Education_num'], axis = 1)\n",
    "y = adult['Income_cat']"
   ]
  },
  {
   "cell_type": "code",
   "execution_count": 15,
   "metadata": {},
   "outputs": [],
   "source": [
    "# Train test split (80/20) w/ stratification of Income_cat\n",
    "X_train, X_test, y_train, y_test = train_test_split(X, y, test_size=0.20, random_state=42, stratify = y)"
   ]
  },
  {
   "cell_type": "code",
   "execution_count": 16,
   "metadata": {},
   "outputs": [
    {
     "name": "stdout",
     "output_type": "stream",
     "text": [
      "(26048, 13)\n",
      "(6513, 13)\n",
      "(26048,)\n",
      "(6513,)\n"
     ]
    }
   ],
   "source": [
    "# Shape of training and testing\n",
    "print(X_train.shape)\n",
    "print(X_test.shape)\n",
    "print(y_train.shape)\n",
    "print(y_test.shape)"
   ]
  },
  {
   "cell_type": "code",
   "execution_count": 17,
   "metadata": {},
   "outputs": [],
   "source": [
    "# Make copies of training and testing sets for later feature engineering\n",
    "X_train_copy = X_train.copy()\n",
    "X_test_copy = X_test.copy()\n",
    "y_train_copy = y_train.copy()\n",
    "y_test_copy = y_test.copy()"
   ]
  },
  {
   "cell_type": "code",
   "execution_count": 18,
   "metadata": {},
   "outputs": [
    {
     "name": "stdout",
     "output_type": "stream",
     "text": [
      "(26048, 13)\n",
      "(6513, 13)\n",
      "(26048,)\n",
      "(6513,)\n"
     ]
    }
   ],
   "source": [
    "# Shape of training and testing copies\n",
    "print(X_train_copy.shape)\n",
    "print(X_test_copy.shape)\n",
    "print(y_train_copy.shape)\n",
    "print(y_test_copy.shape)"
   ]
  },
  {
   "cell_type": "code",
   "execution_count": 19,
   "metadata": {},
   "outputs": [
    {
     "data": {
      "text/plain": [
       " <=50K    0.759175\n",
       " >50K     0.240825\n",
       "Name: Income_cat, dtype: float64"
      ]
     },
     "execution_count": 19,
     "metadata": {},
     "output_type": "execute_result"
    }
   ],
   "source": [
    "# Check stratifcation of y_train:\n",
    "# Original: Income_cat\n",
    "#    <=50K    0.75919\n",
    "#    >50K     0.24081\n",
    "\n",
    "# y_train: Income_cat\n",
    "#    <=50K    0.759175\n",
    "#    >50K     0.240825\n",
    "\n",
    "y_train.value_counts()/len(y_train)"
   ]
  },
  {
   "cell_type": "markdown",
   "metadata": {},
   "source": [
    "# Encoding variables"
   ]
  },
  {
   "cell_type": "code",
   "execution_count": 20,
   "metadata": {},
   "outputs": [
    {
     "data": {
      "text/plain": [
       "(26048, 99)"
      ]
     },
     "execution_count": 20,
     "metadata": {},
     "output_type": "execute_result"
    }
   ],
   "source": [
    "# X_train encode with shape (26,048 rows, 99 columns)\n",
    "X_train = pd.get_dummies(X_train, drop_first=True)\n",
    "X_train.shape"
   ]
  },
  {
   "cell_type": "code",
   "execution_count": 21,
   "metadata": {},
   "outputs": [],
   "source": [
    "# Making sure both X_train and X_test have the same columns in order to validate model later\n",
    "\n",
    "# Missing columns in X_test\n",
    "missing = set(X_train.columns) - set(X_test.columns)\n",
    "\n",
    "# Add in the missing column and assign 0's\n",
    "for c in missing:\n",
    "    X_test[c] = 0\n",
    "\n",
    "# Ensure the order of the columns in the train is the same in the test\n",
    "X_test = X_test[X_train.columns]"
   ]
  },
  {
   "cell_type": "code",
   "execution_count": 22,
   "metadata": {},
   "outputs": [
    {
     "data": {
      "text/plain": [
       "(6513, 99)"
      ]
     },
     "execution_count": 22,
     "metadata": {},
     "output_type": "execute_result"
    }
   ],
   "source": [
    "# X_test encode (6,513 rows with 99 columns)\n",
    "X_test = pd.get_dummies(X_test, drop_first=True)\n",
    "X_test.shape"
   ]
  },
  {
   "cell_type": "code",
   "execution_count": 23,
   "metadata": {},
   "outputs": [
    {
     "name": "stdout",
     "output_type": "stream",
     "text": [
      "(26048, 99)\n",
      "(6513, 99)\n"
     ]
    }
   ],
   "source": [
    "# Turn X_train and X_test into arrays to feed into algorithms\n",
    "X_train = X_train.values\n",
    "X_test = X_test.values\n",
    "\n",
    "print(X_train.shape)\n",
    "print(X_test.shape)"
   ]
  },
  {
   "cell_type": "code",
   "execution_count": 24,
   "metadata": {},
   "outputs": [
    {
     "data": {
      "text/plain": [
       "(26048,)"
      ]
     },
     "execution_count": 24,
     "metadata": {},
     "output_type": "execute_result"
    }
   ],
   "source": [
    "# Y_train label binarizer ($50K or less = 0 and greater than $50k = 1)\n",
    "label_binarizer = LabelBinarizer()\n",
    "label_binarizer.fit(y_train)\n",
    "y_train = label_binarizer.transform(y_train).ravel()\n",
    "y_train.shape"
   ]
  },
  {
   "cell_type": "code",
   "execution_count": 25,
   "metadata": {},
   "outputs": [
    {
     "data": {
      "text/plain": [
       "(6513,)"
      ]
     },
     "execution_count": 25,
     "metadata": {},
     "output_type": "execute_result"
    }
   ],
   "source": [
    "# Y_test label binarizer\n",
    "label_binarizer = LabelBinarizer()\n",
    "label_binarizer.fit(y_test)\n",
    "y_test = label_binarizer.transform(y_test).ravel()\n",
    "y_test.shape"
   ]
  },
  {
   "cell_type": "markdown",
   "metadata": {},
   "source": [
    "# Spot Check Algorithms on Full X_train (Untransformed)\n",
    "**Accuracy Results (mean, std):**\n",
    "- LogReg: 0.796721 (0.006118)\n",
    "- LDA: 0.839719 (0.005414); *best*\n",
    "- DecTree: 0.813076 (0.004566)\n",
    "- SVM: 0.793458 (0.004805)\n",
    "- NB: 0.794610 (0.007233)\n",
    "- KNN: 0.772343 (0.007389)"
   ]
  },
  {
   "cell_type": "code",
   "execution_count": 26,
   "metadata": {},
   "outputs": [
    {
     "name": "stdout",
     "output_type": "stream",
     "text": [
      "Accuracy Score for LogReg: 0.796721 (0.006118)\n",
      "Accuracy Score for LDA: 0.839719 (0.005414)\n",
      "Accuracy Score for DecTree: 0.813076 (0.004566)\n",
      "Accuracy Score for SVM: 0.793458 (0.004805)\n",
      "Accuracy Score for NB: 0.794610 (0.007233)\n",
      "Accuracy Score for KNN: 0.772343 (0.007389)\n"
     ]
    },
    {
     "data": {
      "image/png": "[encoded data removed]",
      "text/plain": [
       "<Figure size 720x504 with 1 Axes>"
      ]
     },
     "metadata": {
      "needs_background": "light"
     },
     "output_type": "display_data"
    }
   ],
   "source": [
    "# Spot checking the following: Logistic Regression (LogReg), Linear Discriminant Analysis (LDA), \n",
    "# Decision Tree Classifier (Dec Tree), Support Vector Classifier (SVM), Naive Bayes (NB), and K-Nearest Neighbors (KNN)\n",
    "\n",
    "# List of models\n",
    "models = []\n",
    "models.append(('LogReg', LogisticRegression(random_state=42)))\n",
    "models.append(('LDA', LinearDiscriminantAnalysis()))\n",
    "models.append(('DecTree', DecisionTreeClassifier(random_state=42)))\n",
    "models.append(('SVM', SVC(random_state=42)))\n",
    "models.append(('NB', GaussianNB()))\n",
    "models.append(('KNN', KNeighborsClassifier()))\n",
    "\n",
    "# List for results and names of models\n",
    "results = []\n",
    "names = []\n",
    "\n",
    "# For each model we will do a K-Fold Cross Validation with 10 folds and then check the mean accuracy for each model.\n",
    "for name, model in models:\n",
    "    kfold = KFold (n_splits=10, shuffle = True, random_state=42)\n",
    "    cross_val_results = cross_val_score(model, X_train, y_train, scoring = 'accuracy', cv = kfold)\n",
    "    \n",
    "    results.append(cross_val_results)\n",
    "    names.append(name)\n",
    "    \n",
    "    msg = \"Accuracy Score for %s: %f (%f)\" % (name, cross_val_results.mean(), cross_val_results.std())\n",
    "    print(msg)\n",
    "    \n",
    "# Boxplot to display results: best model without scaling the data is LDA\n",
    "fig = plt.figure(figsize=(10,7))\n",
    "fig.suptitle('Algorithm Spot Check (Scoring: Accuracy)')\n",
    "ax = fig.add_subplot(111)\n",
    "plt.boxplot(results)\n",
    "ax.set_xticklabels(names)\n",
    "plt.show()\n",
    "\n",
    "# Put results into a dataframe to compare untransformed, standard scaler, and minmax scaler\n",
    "df_untransformed = pd.DataFrame(columns = ['Untranformed_AvgMean'])\n",
    "for i in np.arange(len(results)):\n",
    "    df_untransformed.loc[i] = results[i].mean()"
   ]
  },
  {
   "cell_type": "markdown",
   "metadata": {},
   "source": [
    "# Spot check on X_transformed (Standard Scaler)\n",
    "Since features are measured on different scales (e.g., fnlwght and capital gain), standardizing the features may improve the machine learning algorithms. Overall, standardizing in input variables improved the algorithms except for Naive Bayes.\n",
    "\n",
    "**Accuracy Results (mean, std):**\n",
    "- StdScalerLogReg: 0.850622 (0.007258); *best*\n",
    "- StdScalerLDA: 0.839719 (0.005414)\n",
    "- StdScalerDecTree: 0.812999 (0.005079)\n",
    "- StdScalerSVM: 0.845976 (0.004670)\n",
    "- StdScalerNB: 0.415693 (0.034393)\n",
    "- StdScalerKNN: 0.818566 (0.008401)"
   ]
  },
  {
   "cell_type": "code",
   "execution_count": 27,
   "metadata": {},
   "outputs": [
    {
     "name": "stdout",
     "output_type": "stream",
     "text": [
      "Accuracy Score for StdScalerLogReg: 0.850622 (0.007258)\n",
      "Accuracy Score for StdScalerLDA: 0.839719 (0.005414)\n",
      "Accuracy Score for StdScalerDecTree: 0.812999 (0.005079)\n",
      "Accuracy Score for StdScalerSVM: 0.845976 (0.004670)\n",
      "Accuracy Score for StdScalerNB: 0.415693 (0.034393)\n",
      "Accuracy Score for StdScalerKNN: 0.818566 (0.008401)\n"
     ]
    },
    {
     "data": {
      "image/png": "[encoded data removed]",
      "text/plain": [
       "<Figure size 720x504 with 1 Axes>"
      ]
     },
     "metadata": {
      "needs_background": "light"
     },
     "output_type": "display_data"
    }
   ],
   "source": [
    "# List of models and using a Pipeline to scale data (Standard Scaler) before fitting to the model\n",
    "modelpipe = []\n",
    "modelpipe.append(('StdScalerLogReg', Pipeline([('scaler', StandardScaler()), ('LR',LogisticRegression(random_state=42))])))\n",
    "modelpipe.append(('StdScalerLDA', Pipeline([('scaler', StandardScaler()), ('LDA',LinearDiscriminantAnalysis())])))\n",
    "modelpipe.append(('StdScalerDecTree', Pipeline([('scaler', StandardScaler()), ('DecTree',DecisionTreeClassifier(random_state=42))])))\n",
    "modelpipe.append(('StdScalerSVM', Pipeline([('scaler', StandardScaler()), ('SVC',SVC(random_state=42))])))\n",
    "modelpipe.append(('StdScalerNB', Pipeline([('scaler', StandardScaler()), ('NB',GaussianNB())])))\n",
    "modelpipe.append(('StdScalerKNN', Pipeline([('scaler', StandardScaler()), ('KNN',KNeighborsClassifier())])))\n",
    "\n",
    "results = []\n",
    "names = []\n",
    "\n",
    "for name, model in modelpipe:\n",
    "    kfold = KFold (n_splits=10, shuffle = True, random_state=42)\n",
    "    cross_val_results = cross_val_score(model, X_train, y_train, scoring = 'accuracy', cv = kfold)\n",
    "    \n",
    "    results.append(cross_val_results)\n",
    "    names.append(name)\n",
    "    \n",
    "    msg = \"Accuracy Score for %s: %f (%f)\" % (name, cross_val_results.mean(), cross_val_results.std())\n",
    "    print(msg)\n",
    "    \n",
    "# Boxplot to display results: best model without scaling the data is LDA\n",
    "fig = plt.figure(figsize=(10,7))\n",
    "fig.suptitle('Algorithm Spot Check (Scoring: Accuracy) - Standard Scaler')\n",
    "ax = fig.add_subplot(111)\n",
    "plt.boxplot(results)\n",
    "ax.set_xticklabels(names)\n",
    "plt.show()\n",
    "\n",
    "# Put results into a dataframe to compare untransformed, standard scaler, and minmax scaler\n",
    "df_stdscaler = pd.DataFrame(columns = ['StdScaler_AvgMean'])\n",
    "for i in np.arange(len(results)):\n",
    "    df_stdscaler.loc[i] = results[i].mean()"
   ]
  },
  {
   "cell_type": "markdown",
   "metadata": {},
   "source": [
    "# Spot check on X_transformed (MinMaxScaler)\n",
    "The data are scaled using the MinMaxScaler to see if the model(s) improved with a different transformation. Overall, there was improvement in the models' accuracy from the untransformed data, but not from the Standard Scaler used prior.\n",
    "\n",
    "**Accuracy Results (mean, std):**\n",
    "- MMScalerLogReg: 0.849009 (0.007328); *best*\n",
    "- MMScalerLDA: 0.839719 (0.005414)\n",
    "- MMScalerDecTree: 0.812846 (0.004700)\n",
    "- MMScalerSVM: 0.836840 (0.004735)\n",
    "- MMScalerNB: 0.506064 (0.022927)\n",
    "- MMScalerKNN: 0.823249 (0.005807)"
   ]
  },
  {
   "cell_type": "code",
   "execution_count": 28,
   "metadata": {},
   "outputs": [
    {
     "name": "stdout",
     "output_type": "stream",
     "text": [
      "Accuracy Score for MMScalerLogReg: 0.849009 (0.007328)\n",
      "Accuracy Score for MMScalerLDA: 0.839719 (0.005414)\n",
      "Accuracy Score for MMScalerDecTree: 0.812846 (0.004700)\n",
      "Accuracy Score for MMScalerSVM: 0.836840 (0.004735)\n",
      "Accuracy Score for MMScalerNB: 0.506064 (0.022927)\n",
      "Accuracy Score for MMScalerKNN: 0.823249 (0.005807)\n"
     ]
    },
    {
     "data": {
      "image/png": "[encoded data removed]",
      "text/plain": [
       "<Figure size 720x504 with 1 Axes>"
      ]
     },
     "metadata": {
      "needs_background": "light"
     },
     "output_type": "display_data"
    }
   ],
   "source": [
    "# List of models and using a Pipeline to scale data (MinMax Scaler) before fitting to the model\n",
    "modelpipe = []\n",
    "modelpipe.append(('MMScalerLogReg', Pipeline([('scaler', MinMaxScaler()), ('LR',LogisticRegression(max_iter = 500, random_state=42))])))\n",
    "modelpipe.append(('MMScalerLDA', Pipeline([('scaler', MinMaxScaler()), ('LDA',LinearDiscriminantAnalysis())])))\n",
    "modelpipe.append(('MMScalerDecTree', Pipeline([('scaler', MinMaxScaler()), ('DecTree',DecisionTreeClassifier(random_state=42))])))\n",
    "modelpipe.append(('MMScalerSVM', Pipeline([('scaler', MinMaxScaler()), ('SVC',SVC(random_state=42))])))\n",
    "modelpipe.append(('MMScalerNB', Pipeline([('scaler', MinMaxScaler()), ('NB',GaussianNB())])))\n",
    "modelpipe.append(('MMScalerKNN', Pipeline([('scaler', MinMaxScaler()), ('KNN',KNeighborsClassifier())])))\n",
    "\n",
    "results = []\n",
    "names = []\n",
    "\n",
    "for name, model in modelpipe:\n",
    "    kfold = KFold (n_splits=10, shuffle = True, random_state=42)\n",
    "    cross_val_results = cross_val_score(model, X_train, y_train, scoring = 'accuracy', cv = kfold)\n",
    "    \n",
    "    results.append(cross_val_results)\n",
    "    names.append(name)\n",
    "    \n",
    "    msg = \"Accuracy Score for %s: %f (%f)\" % (name, cross_val_results.mean(), cross_val_results.std())\n",
    "    print(msg)\n",
    "    \n",
    "# Boxplot to display results: best model without scaling the data is LDA\n",
    "fig = plt.figure(figsize=(10,7))\n",
    "fig.suptitle('Algorithm Spot Check (Scoring: Accuracy) - MinMaxScaler')\n",
    "ax = fig.add_subplot(111)\n",
    "plt.boxplot(results)\n",
    "ax.set_xticklabels(names)\n",
    "plt.show()\n",
    "\n",
    "# Put results into a dataframe to compare to untransformed to transformed data\n",
    "df_minmaxscaler = pd.DataFrame(columns = ['MinMax_AvgMean'])\n",
    "for i in np.arange(len(results)):\n",
    "    df_minmaxscaler.loc[i] = results[i].mean()"
   ]
  },
  {
   "cell_type": "markdown",
   "metadata": {},
   "source": [
    "The comparison table below displays the mean accuracy of models between the untransformed and transformed data (Standard Scalar and MinMax Scaler). General conclusions from the table are:\n",
    "- Logistic Regression had the highest overall accuracy (85.1%) with a Standard Scaler.\n",
    "- The mean accuracy for Linear Discriminant Analysis did not improve with transformations.\n",
    "- Decision Tree Classifier slightly decreased in mean accuracy with transformations applied.\n",
    "- Support Vector Classifier mean accuracy improved by 5.3% with a Standard Scaler and by 4.3% with a MinMax Scaler from the untransformed data.\n",
    "- Naive Bayes mean accuracy decreased with transformations.\n",
    "- KNN Classifier improved by 4.6% with a Standard Scaler and by 5.1% with a MinMax Scaler from the untransformed data."
   ]
  },
  {
   "cell_type": "code",
   "execution_count": 29,
   "metadata": {},
   "outputs": [
    {
     "name": "stdout",
     "output_type": "stream",
     "text": [
      "Algorithm Comparison (K-Fold Cross Validation with 10 Folds)\n",
      "\n",
      "            Algorithm  Untranformed_AvgMean  StdScaler_AvgMean  MinMax_AvgMean\n",
      "0            Log. Reg              0.796721           0.850622        0.849009\n",
      "1                 LDA              0.839719           0.839719        0.839719\n",
      "2   Decision Tree CLF              0.813076           0.812999        0.812846\n",
      "3  Support Vector CLF              0.793458           0.845976        0.836840\n",
      "4         Naive Bayes              0.794610           0.415693        0.506064\n",
      "5      KNN Classifier              0.772343           0.818566        0.823249\n"
     ]
    }
   ],
   "source": [
    "# Create dataframe that contains the mean of each algorithm between each transformation\n",
    "names = ['Log. Reg', 'LDA', 'Decision Tree CLF', 'Support Vector CLF',\n",
    "        'Naive Bayes', 'KNN Classifier']\n",
    "\n",
    "df_name = pd.DataFrame(names, columns = ['Algorithm'])\n",
    "\n",
    "df_comparison = pd.concat([df_name, df_untransformed, df_stdscaler, df_minmaxscaler], axis = 1)\n",
    "\n",
    "print(\"Algorithm Comparison (K-Fold Cross Validation with 10 Folds)\")\n",
    "print()\n",
    "print(df_comparison)"
   ]
  },
  {
   "cell_type": "markdown",
   "metadata": {},
   "source": [
    "# Fine Tune Logistic Regression Model\n",
    "Find the best parameter(s) for the Logistic Regression Model using a Standard Scaler to transform the data:\n",
    "- C: 100\n",
    "- Max_iter: 500\n",
    "- Mean Accuracy: 85.0775%"
   ]
  },
  {
   "cell_type": "code",
   "execution_count": 30,
   "metadata": {},
   "outputs": [
    {
     "name": "stdout",
     "output_type": "stream",
     "text": [
      "Best Accuracy 0.850775 using {'C': 100.0, 'max_iter': 500}:\n",
      "0.840487 (0.006748) with {'C': 0.001, 'max_iter': 500}\n",
      "0.840487 (0.006748) with {'C': 0.001, 'max_iter': 600}\n",
      "0.840487 (0.006748) with {'C': 0.001, 'max_iter': 700}\n",
      "0.840487 (0.006748) with {'C': 0.001, 'max_iter': 800}\n",
      "0.840487 (0.006748) with {'C': 0.001, 'max_iter': 900}\n",
      "0.840487 (0.006748) with {'C': 0.001, 'max_iter': 1000}\n",
      "0.848894 (0.007578) with {'C': 0.01, 'max_iter': 500}\n",
      "0.848894 (0.007578) with {'C': 0.01, 'max_iter': 600}\n",
      "0.848894 (0.007578) with {'C': 0.01, 'max_iter': 700}\n",
      "0.848894 (0.007578) with {'C': 0.01, 'max_iter': 800}\n",
      "0.848894 (0.007578) with {'C': 0.01, 'max_iter': 900}\n",
      "0.848894 (0.007578) with {'C': 0.01, 'max_iter': 1000}\n",
      "0.850737 (0.007069) with {'C': 0.1, 'max_iter': 500}\n",
      "0.850737 (0.007069) with {'C': 0.1, 'max_iter': 600}\n",
      "0.850737 (0.007069) with {'C': 0.1, 'max_iter': 700}\n",
      "0.850737 (0.007069) with {'C': 0.1, 'max_iter': 800}\n",
      "0.850737 (0.007069) with {'C': 0.1, 'max_iter': 900}\n",
      "0.850737 (0.007069) with {'C': 0.1, 'max_iter': 1000}\n",
      "0.850660 (0.007286) with {'C': 1.0, 'max_iter': 500}\n",
      "0.850660 (0.007286) with {'C': 1.0, 'max_iter': 600}\n",
      "0.850660 (0.007286) with {'C': 1.0, 'max_iter': 700}\n",
      "0.850660 (0.007286) with {'C': 1.0, 'max_iter': 800}\n",
      "0.850660 (0.007286) with {'C': 1.0, 'max_iter': 900}\n",
      "0.850660 (0.007286) with {'C': 1.0, 'max_iter': 1000}\n",
      "0.850737 (0.007263) with {'C': 10.0, 'max_iter': 500}\n",
      "0.850737 (0.007263) with {'C': 10.0, 'max_iter': 600}\n",
      "0.850737 (0.007263) with {'C': 10.0, 'max_iter': 700}\n",
      "0.850737 (0.007263) with {'C': 10.0, 'max_iter': 800}\n",
      "0.850737 (0.007263) with {'C': 10.0, 'max_iter': 900}\n",
      "0.850737 (0.007263) with {'C': 10.0, 'max_iter': 1000}\n",
      "0.850775 (0.007237) with {'C': 100.0, 'max_iter': 500}\n",
      "0.850775 (0.007237) with {'C': 100.0, 'max_iter': 600}\n",
      "0.850775 (0.007237) with {'C': 100.0, 'max_iter': 700}\n",
      "0.850775 (0.007237) with {'C': 100.0, 'max_iter': 800}\n",
      "0.850775 (0.007237) with {'C': 100.0, 'max_iter': 900}\n",
      "0.850775 (0.007237) with {'C': 100.0, 'max_iter': 1000}\n",
      "0.850775 (0.007237) with {'C': 1000.0, 'max_iter': 500}\n",
      "0.850775 (0.007237) with {'C': 1000.0, 'max_iter': 600}\n",
      "0.850775 (0.007237) with {'C': 1000.0, 'max_iter': 700}\n",
      "0.850775 (0.007237) with {'C': 1000.0, 'max_iter': 800}\n",
      "0.850775 (0.007237) with {'C': 1000.0, 'max_iter': 900}\n",
      "0.850775 (0.007237) with {'C': 1000.0, 'max_iter': 1000}\n"
     ]
    }
   ],
   "source": [
    "# Scale data with Standard Scaler since that had the best performance in regard to accuracy\n",
    "scaler = StandardScaler()\n",
    "rescaledX_train = scaler.fit_transform(X_train)\n",
    "\n",
    "# Parameter grid\n",
    "pg = {'C': np.logspace(-3,3,7),\n",
    "     'max_iter': [500, 600, 700, 800, 900, 1000]}\n",
    "\n",
    "# Logistic regression instance\n",
    "model = LogisticRegression()\n",
    "\n",
    "# K-fold\n",
    "kfold = KFold(n_splits=10, shuffle = True, random_state=42)\n",
    "\n",
    "# Grid search\n",
    "grid = GridSearchCV(estimator = model, param_grid = pg, scoring = 'accuracy', cv = kfold)\n",
    "grid.fit(rescaledX_train, y_train)\n",
    "\n",
    "# Check best parameters\n",
    "print(\"Best Accuracy %f using %s:\" % (grid.best_score_, grid.best_params_))\n",
    "\n",
    "means = grid.cv_results_['mean_test_score']\n",
    "stds = grid.cv_results_['std_test_score']\n",
    "params = grid.cv_results_['params']\n",
    "\n",
    "for mean, std, param in zip(means, stds, params):\n",
    "    print(\"%f (%f) with %r\" % (mean, std, param))"
   ]
  },
  {
   "cell_type": "markdown",
   "metadata": {},
   "source": [
    "# Ensemble Methods: No Transformation\n",
    "**Accuracy Results (mean, std):**\n",
    "- ADA: 0.858530 (0.005270)\n",
    "- GB: 0.864020 (0.005324); *best*\n",
    "- RF: 0.853002 (0.006006)\n",
    "- ET: 0.831196 (0.006441)"
   ]
  },
  {
   "cell_type": "code",
   "execution_count": 31,
   "metadata": {},
   "outputs": [
    {
     "name": "stdout",
     "output_type": "stream",
     "text": [
      "Accuracy Score for ADA: 0.858530 (0.005270)\n",
      "Accuracy Score for GB: 0.864020 (0.005324)\n",
      "Accuracy Score for RF: 0.853002 (0.006006)\n",
      "Accuracy Score for ET: 0.831196 (0.006441)\n"
     ]
    },
    {
     "data": {
      "image/png": "[encoded data removed]",
      "text/plain": [
       "<Figure size 720x504 with 1 Axes>"
      ]
     },
     "metadata": {
      "needs_background": "light"
     },
     "output_type": "display_data"
    }
   ],
   "source": [
    "# List of ensemble methods: Ada Boost Classifier (ADA), Gradiant Boosting Classifier (GB), Random Forest Classifier (RF),\n",
    "# and Extra Trees Classifier (ET)\n",
    "ensemble = []\n",
    "ensemble.append(('ADA', AdaBoostClassifier(random_state=42)))\n",
    "ensemble.append(('GB', GradientBoostingClassifier(random_state=42)))\n",
    "ensemble.append(('RF', RandomForestClassifier(random_state=42)))\n",
    "ensemble.append(('ET', ExtraTreesClassifier(random_state=42)))\n",
    "            \n",
    "results = []\n",
    "names = []\n",
    "\n",
    "for name, model in ensemble:\n",
    "    kfold = KFold (n_splits=10, shuffle = True, random_state=42)\n",
    "    cross_val_results = cross_val_score(model, X_train, y_train, scoring = 'accuracy', cv = kfold)\n",
    "    \n",
    "    results.append(cross_val_results)\n",
    "    names.append(name)\n",
    "    \n",
    "    msg = \"Accuracy Score for %s: %f (%f)\" % (name, cross_val_results.mean(), cross_val_results.std())\n",
    "    print(msg)\n",
    "    \n",
    "# Boxplot to display results: best model without scaling the data is LDA\n",
    "fig = plt.figure(figsize=(10,7))\n",
    "fig.suptitle('Algorithm Spot Check (Scoring: Accuracy)')\n",
    "ax = fig.add_subplot(111)\n",
    "plt.boxplot(results)\n",
    "ax.set_xticklabels(names)\n",
    "plt.show()\n",
    "\n",
    "# Put results into a dataframe to compare untransformed and transformed data\n",
    "df_untransformed_ensemble = pd.DataFrame(columns = ['Untranformed_AvgMean'])\n",
    "for i in np.arange(len(results)):\n",
    "    df_untransformed_ensemble.loc[i] = results[i].mean()"
   ]
  },
  {
   "cell_type": "markdown",
   "metadata": {},
   "source": [
    "# Ensemble Methods: Standard Scaler\n",
    "**Accuracy Score Results (mean, std):**\n",
    "- StdScalerADA: 0.858530 (0.005270)\n",
    "- StdScalerGB: 0.864020 (0.005324); *best*\n",
    "- StdScalerRF: 0.852810 (0.006505)\n",
    "- StdScalerET: 0.831273 (0.006485)"
   ]
  },
  {
   "cell_type": "code",
   "execution_count": 32,
   "metadata": {},
   "outputs": [
    {
     "name": "stdout",
     "output_type": "stream",
     "text": [
      "Accuracy Score for StdScalerADA: 0.858530 (0.005270)\n",
      "Accuracy Score for StdScalerGB: 0.864020 (0.005324)\n",
      "Accuracy Score for StdScalerRF: 0.852810 (0.006505)\n",
      "Accuracy Score for StdScalerET: 0.831273 (0.006485)\n"
     ]
    },
    {
     "data": {
      "image/png": "[encoded data removed]",
      "text/plain": [
       "<Figure size 720x504 with 1 Axes>"
      ]
     },
     "metadata": {
      "needs_background": "light"
     },
     "output_type": "display_data"
    }
   ],
   "source": [
    "modelpipe_ensemble = []\n",
    "modelpipe_ensemble.append(('StdScalerADA', Pipeline([('scaler', StandardScaler()), ('ADA',AdaBoostClassifier(random_state=42))])))\n",
    "modelpipe_ensemble.append(('StdScalerGB', Pipeline([('scaler', StandardScaler()), ('GB',GradientBoostingClassifier(random_state=42))])))\n",
    "modelpipe_ensemble.append(('StdScalerRF', Pipeline([('scaler', StandardScaler()), ('RF',RandomForestClassifier(random_state=42))])))\n",
    "modelpipe_ensemble.append(('StdScalerET', Pipeline([('scaler', StandardScaler()), ('ET',ExtraTreesClassifier(random_state=42))])))\n",
    "\n",
    "results = []\n",
    "names = []\n",
    "\n",
    "for name, model in modelpipe_ensemble:\n",
    "    kfold = KFold (n_splits=10, shuffle = True, random_state=42)\n",
    "    cross_val_results = cross_val_score(model, X_train, y_train, scoring = 'accuracy', cv = kfold)\n",
    "    \n",
    "    results.append(cross_val_results)\n",
    "    names.append(name)\n",
    "    \n",
    "    msg = \"Accuracy Score for %s: %f (%f)\" % (name, cross_val_results.mean(), cross_val_results.std())\n",
    "    print(msg)\n",
    "    \n",
    "# Boxplot to display results: best model without scaling the data is LDA\n",
    "fig = plt.figure(figsize=(10,7))\n",
    "fig.suptitle('Algorithm Spot Check (Scoring: Accuracy) - Standard Scaler')\n",
    "ax = fig.add_subplot(111)\n",
    "plt.boxplot(results)\n",
    "ax.set_xticklabels(names)\n",
    "plt.show()\n",
    "\n",
    "# Put results into a dataframe\n",
    "df_stdscaler_ensemble = pd.DataFrame(columns = ['StdScaler_AvgMean'])\n",
    "for i in np.arange(len(results)):\n",
    "    df_stdscaler_ensemble.loc[i] = results[i].mean()"
   ]
  },
  {
   "cell_type": "markdown",
   "metadata": {},
   "source": [
    "# Ensemble Method: MinMax Scaler\n",
    "**Accuracy Score Results (mean, std):**\n",
    "- MMScalerADA: 0.858530 (0.005270)\n",
    "- MMScalerGB: 0.864020 (0.005324); *best*\n",
    "- MMScalerRF: 0.853002 (0.006612)\n",
    "- MMScalerET: 0.831196 (0.006441)"
   ]
  },
  {
   "cell_type": "code",
   "execution_count": 33,
   "metadata": {},
   "outputs": [
    {
     "name": "stdout",
     "output_type": "stream",
     "text": [
      "Accuracy Score for MMScalerADA: 0.858530 (0.005270)\n",
      "Accuracy Score for MMScalerGB: 0.864020 (0.005324)\n",
      "Accuracy Score for MMScalerRF: 0.853002 (0.006612)\n",
      "Accuracy Score for MMScalerET: 0.831196 (0.006441)\n"
     ]
    },
    {
     "data": {
      "image/png": "[encoded data removed]",
      "text/plain": [
       "<Figure size 720x504 with 1 Axes>"
      ]
     },
     "metadata": {
      "needs_background": "light"
     },
     "output_type": "display_data"
    }
   ],
   "source": [
    "modelpipe_ensemble = []\n",
    "modelpipe_ensemble.append(('MMScalerADA', Pipeline([('scaler', MinMaxScaler()), ('ADA',AdaBoostClassifier(random_state=42))])))\n",
    "modelpipe_ensemble.append(('MMScalerGB', Pipeline([('scaler', MinMaxScaler()), ('GB',GradientBoostingClassifier(random_state=42))])))\n",
    "modelpipe_ensemble.append(('MMScalerRF', Pipeline([('scaler', MinMaxScaler()), ('RF',RandomForestClassifier(random_state=42))])))\n",
    "modelpipe_ensemble.append(('MMScalerET', Pipeline([('scaler', MinMaxScaler()), ('ET',ExtraTreesClassifier(random_state=42))])))\n",
    "\n",
    "results = []\n",
    "names = []\n",
    "\n",
    "for name, model in modelpipe_ensemble:\n",
    "    kfold = KFold (n_splits=10, shuffle = True, random_state=42)\n",
    "    cross_val_results = cross_val_score(model, X_train, y_train, scoring = 'accuracy', cv = kfold)\n",
    "    \n",
    "    results.append(cross_val_results)\n",
    "    names.append(name)\n",
    "    \n",
    "    msg = \"Accuracy Score for %s: %f (%f)\" % (name, cross_val_results.mean(), cross_val_results.std())\n",
    "    print(msg)\n",
    "    \n",
    "# Boxplot to display results: best model without scaling the data is LDA\n",
    "fig = plt.figure(figsize=(10,7))\n",
    "fig.suptitle('Algorithm Spot Check (Scoring: Accuracy) - MinMax Scaler')\n",
    "ax = fig.add_subplot(111)\n",
    "plt.boxplot(results)\n",
    "ax.set_xticklabels(names)\n",
    "plt.show()\n",
    "\n",
    "# Put results into a dataframe\n",
    "df_MMscaler_ensemble = pd.DataFrame(columns = ['MMScaler_AvgMean'])\n",
    "for i in np.arange(len(results)):\n",
    "    df_MMscaler_ensemble.loc[i] = results[i].mean()"
   ]
  },
  {
   "cell_type": "markdown",
   "metadata": {},
   "source": [
    "The table below displays the mean accuracy score for each ensemble method with untransformed and transformed data. General conclusions are:\n",
    "- Gradiant Boosting Classifier (GB) has the highest overall mean accuracy regardless of transformation (86.4%).\n",
    "- Ada Booster Classifier (ADA) mean accuracy was not influenced by any transformations.\n",
    "- Random Forest Classifier (RF) had the highest mean accuracy with either no transformation or the MinMaxScaler.\n",
    "- Extra Trees Classifier (ET) had the highest mean accuracy with a Standard Scaler."
   ]
  },
  {
   "cell_type": "code",
   "execution_count": 34,
   "metadata": {},
   "outputs": [
    {
     "name": "stdout",
     "output_type": "stream",
     "text": [
      "  Algorithm  Untranformed_AvgMean  StdScaler_AvgMean  MMScaler_AvgMean\n",
      "0       ADA              0.858530           0.858530          0.858530\n",
      "1        GB              0.864020           0.864020          0.864020\n",
      "2        RF              0.853002           0.852810          0.853002\n",
      "3        ET              0.831196           0.831273          0.831196\n"
     ]
    }
   ],
   "source": [
    "names = ['ADA', 'GB', 'RF', 'ET']\n",
    "df_name_ensemble = pd.DataFrame(names, columns = ['Algorithm'])\n",
    "df_comparison_ensemble = pd.concat([df_name_ensemble,\n",
    "                                    df_untransformed_ensemble, \n",
    "                                    df_stdscaler_ensemble, \n",
    "                                    df_MMscaler_ensemble], axis = 1)\n",
    "print(df_comparison_ensemble)"
   ]
  },
  {
   "cell_type": "markdown",
   "metadata": {},
   "source": [
    "# Feature Engineering on X_train_copy"
   ]
  },
  {
   "cell_type": "code",
   "execution_count": 35,
   "metadata": {},
   "outputs": [],
   "source": [
    "# Feature Engineer Continent from Native_country to decrease dimensionality\n",
    "\n",
    "# Find unique countries\n",
    "X_train_copy['Native_country'].unique()\n",
    "\n",
    "# Create dictionary from the unique countries\n",
    "continent_dict = {' United-States': 'North America',' ?': 'Not Known',\n",
    "                 ' Poland': 'Europe',' Germany': 'Europe',' Trinadad&Tobago': 'South America',\n",
    "                 ' Mexico': 'North America',' Columbia': 'South America',' Greece': 'Europe',\n",
    "                  ' Japan': 'Asia',' France': 'Europe',' Hungary': 'Europe',' Taiwan': 'Asia',\n",
    "                 ' Dominican-Republic': 'North America',' El-Salvador': 'North America',\n",
    "                 ' England': 'North America',' Cambodia': 'Asia',\n",
    "                 ' Portugal': 'Europe',' Vietnam': 'Asia',\n",
    "                 ' Cuba': 'North America',' Philippines': 'Asia',' Haiti': 'North America',\n",
    "                 ' Scotland': 'Europe',' Jamaica': 'North America',\n",
    "                 ' Peru': 'South America',' Puerto-Rico': 'North America',\n",
    "                 ' China': 'Asia',' Ecuador': 'South America',\n",
    "                 ' India': 'Asia',' Canada': 'North America',\n",
    "                 ' South': 'Not Known',' Guatemala': 'North America',\n",
    "                 ' Thailand': 'Asia', ' Iran': 'Asia', ' Italy': 'Europe',\n",
    "                 ' Hong': 'Asia', ' Yugoslavia': 'Europe', ' Nicaragua': 'North America',\n",
    "                 ' Ireland': 'Europe', ' Outlying-US(Guam-USVI-etc)': 'North America',\n",
    "                 ' Honduras': 'North America', ' Holand-Netherlands': 'Europe',\n",
    "                 ' Laos': 'Asia'}\n",
    "\n",
    "# Map the continent_dict to the Native_country feature and create a new feature Native_continent\n",
    "X_train_copy['Native_continent'] = X_train_copy['Native_country'].map(continent_dict)"
   ]
  },
  {
   "cell_type": "code",
   "execution_count": 36,
   "metadata": {},
   "outputs": [],
   "source": [
    "# Creating a new X_train to use for modeling. Will drop Native_country and see if the model improved with less dimensions\n",
    "X_train_modified = X_train_copy.drop('Native_country', axis = 1)"
   ]
  },
  {
   "cell_type": "code",
   "execution_count": 37,
   "metadata": {},
   "outputs": [],
   "source": [
    "# Get dummies for X_train_modified and then get the array to feed into models\n",
    "X_train_modified = pd.get_dummies(X_train_modified, drop_first=True)\n",
    "X_train_modified = X_train_modified.values"
   ]
  },
  {
   "cell_type": "code",
   "execution_count": 38,
   "metadata": {},
   "outputs": [],
   "source": [
    "# Get array for y_train to feed into model\n",
    "y_train_copy = y_train_copy.values"
   ]
  },
  {
   "cell_type": "code",
   "execution_count": 39,
   "metadata": {},
   "outputs": [
    {
     "name": "stdout",
     "output_type": "stream",
     "text": [
      "(26048, 62)\n",
      "(26048,)\n"
     ]
    }
   ],
   "source": [
    "print(X_train_modified.shape)\n",
    "print(y_train_copy.shape)"
   ]
  },
  {
   "cell_type": "markdown",
   "metadata": {},
   "source": [
    "# Spot Check Algorithms: Modified X_train (Untransformed)\n",
    "**Accuracy Scores (mean, std):**\n",
    "- LogReg: 0.798679 (0.010265)\n",
    "- LDA: 0.839949 (0.005340); *best*\n",
    "- DecTree: 0.811272 (0.005156)\n",
    "- SVM: 0.793458 (0.004805)\n",
    "- NB: 0.794610 (0.007233)\n",
    "- KNN: 0.772343 (0.007424)"
   ]
  },
  {
   "cell_type": "code",
   "execution_count": 40,
   "metadata": {},
   "outputs": [
    {
     "name": "stdout",
     "output_type": "stream",
     "text": [
      "Accuracy Score for LogReg: 0.798679 (0.010265)\n",
      "Accuracy Score for LDA: 0.839949 (0.005340)\n",
      "Accuracy Score for DecTree: 0.811272 (0.005156)\n",
      "Accuracy Score for SVM: 0.793458 (0.004805)\n",
      "Accuracy Score for NB: 0.794610 (0.007233)\n",
      "Accuracy Score for KNN: 0.772343 (0.007424)\n"
     ]
    },
    {
     "data": {
      "image/png": "[encoded data removed]",
      "text/plain": [
       "<Figure size 720x504 with 1 Axes>"
      ]
     },
     "metadata": {
      "needs_background": "light"
     },
     "output_type": "display_data"
    }
   ],
   "source": [
    "models = []\n",
    "models.append(('LogReg', LogisticRegression(max_iter = 500, random_state=42)))\n",
    "models.append(('LDA', LinearDiscriminantAnalysis()))\n",
    "models.append(('DecTree', DecisionTreeClassifier(random_state=42)))\n",
    "models.append(('SVM', SVC(random_state=42)))\n",
    "models.append(('NB', GaussianNB()))\n",
    "models.append(('KNN', KNeighborsClassifier()))\n",
    "\n",
    "results = []\n",
    "names = []\n",
    "\n",
    "for name, model in models:\n",
    "    kfold = KFold (n_splits=10, shuffle = True, random_state=42)\n",
    "    cross_val_results = cross_val_score(model, X_train_modified, y_train_copy, scoring = 'accuracy', cv = kfold)\n",
    "    \n",
    "    results.append(cross_val_results)\n",
    "    names.append(name)\n",
    "    \n",
    "    msg = \"Accuracy Score for %s: %f (%f)\" % (name, cross_val_results.mean(), cross_val_results.std())\n",
    "    print(msg)\n",
    "    \n",
    "# Boxplot to display results: best model without scaling the data is LDA\n",
    "fig = plt.figure(figsize=(10,7))\n",
    "fig.suptitle('Algorithm Spot Check (Scoring: Accuracy)')\n",
    "ax = fig.add_subplot(111)\n",
    "plt.boxplot(results)\n",
    "ax.set_xticklabels(names)\n",
    "plt.show()\n",
    "\n",
    "# Put results into a dataframe\n",
    "df_untransformed = pd.DataFrame(columns = ['Untranformed_AvgMean'])\n",
    "for i in np.arange(len(results)):\n",
    "    df_untransformed.loc[i] = results[i].mean()"
   ]
  },
  {
   "cell_type": "markdown",
   "metadata": {},
   "source": [
    "# Spot Check Algoriths: Modified X_train (Standard Scaler)\n",
    "**Accuracy Scores (mean, std):**\n",
    "- StdScalerLogReg: 0.850315 (0.006880); *best*\n",
    "- StdScalerLDA: 0.839949 (0.005340)\n",
    "- StdScalerDecTree: 0.811157 (0.005369)\n",
    "- StdScalerSVM: 0.849508 (0.004226)\n",
    "- StdScalerNB: 0.521805 (0.009816)\n",
    "- StdScalerKNN: 0.822136 (0.007731)"
   ]
  },
  {
   "cell_type": "code",
   "execution_count": 41,
   "metadata": {},
   "outputs": [
    {
     "name": "stdout",
     "output_type": "stream",
     "text": [
      "Accuracy Score for StdScalerLogReg: 0.850315 (0.006880)\n",
      "Accuracy Score for StdScalerLDA: 0.839949 (0.005340)\n",
      "Accuracy Score for StdScalerDecTree: 0.811157 (0.005369)\n",
      "Accuracy Score for StdScalerSVM: 0.849508 (0.004226)\n",
      "Accuracy Score for StdScalerNB: 0.521805 (0.009816)\n",
      "Accuracy Score for StdScalerKNN: 0.822136 (0.007731)\n"
     ]
    },
    {
     "data": {
      "image/png": "[encoded data removed]",
      "text/plain": [
       "<Figure size 720x504 with 1 Axes>"
      ]
     },
     "metadata": {
      "needs_background": "light"
     },
     "output_type": "display_data"
    }
   ],
   "source": [
    "modelpipe = []\n",
    "modelpipe.append(('StdScalerLogReg', Pipeline([('scaler', StandardScaler()), ('LR',LogisticRegression(random_state=42))])))\n",
    "modelpipe.append(('StdScalerLDA', Pipeline([('scaler', StandardScaler()), ('LDA',LinearDiscriminantAnalysis())])))\n",
    "modelpipe.append(('StdScalerDecTree', Pipeline([('scaler', StandardScaler()), ('DecTree',DecisionTreeClassifier(random_state=42))])))\n",
    "modelpipe.append(('StdScalerSVM', Pipeline([('scaler', StandardScaler()), ('SVC',SVC(random_state=42))])))\n",
    "modelpipe.append(('StdScalerNB', Pipeline([('scaler', StandardScaler()), ('NB',GaussianNB())])))\n",
    "modelpipe.append(('StdScalerKNN', Pipeline([('scaler', StandardScaler()), ('KNN',KNeighborsClassifier())])))\n",
    "\n",
    "results = []\n",
    "names = []\n",
    "\n",
    "for name, model in modelpipe:\n",
    "    kfold = KFold (n_splits=10, shuffle = True, random_state=42)\n",
    "    cross_val_results = cross_val_score(model, X_train_modified, y_train_copy, scoring = 'accuracy', cv = kfold)\n",
    "    \n",
    "    results.append(cross_val_results)\n",
    "    names.append(name)\n",
    "    \n",
    "    msg = \"Accuracy Score for %s: %f (%f)\" % (name, cross_val_results.mean(), cross_val_results.std())\n",
    "    print(msg)\n",
    "    \n",
    "# Boxplot to display results: best model without scaling the data is LDA\n",
    "fig = plt.figure(figsize=(10,7))\n",
    "fig.suptitle('Algorithm Spot Check (Scoring: Accuracy) - Standard Scaler')\n",
    "ax = fig.add_subplot(111)\n",
    "plt.boxplot(results)\n",
    "ax.set_xticklabels(names)\n",
    "plt.show()\n",
    "\n",
    "# Put results into a dataframe\n",
    "df_stdscaler = pd.DataFrame(columns = ['StdScaler_AvgMean'])\n",
    "for i in np.arange(len(results)):\n",
    "    df_stdscaler.loc[i] = results[i].mean()"
   ]
  },
  {
   "cell_type": "markdown",
   "metadata": {},
   "source": [
    "# Spot Check Algoriths: Modified X_train (MinMax Scaler)\n",
    "**Accuracy Scores (mean, std):**\n",
    "- MMScalerLogReg: 0.848011 (0.006197)\n",
    "- for MMScalerLDA: 0.839949 (0.005340)\n",
    "- MMScalerDecTree: 0.810811 (0.004966)\n",
    "- MMScalerSVM: 0.836456 (0.004634)\n",
    "- MMScalerNB: 0.558315 (0.010559)\n",
    "- MMScalerKNN: 0.823287 (0.006301)"
   ]
  },
  {
   "cell_type": "code",
   "execution_count": 42,
   "metadata": {},
   "outputs": [
    {
     "name": "stdout",
     "output_type": "stream",
     "text": [
      "Accuracy Score for MMScalerLogReg: 0.848011 (0.006197)\n",
      "Accuracy Score for MMScalerLDA: 0.839949 (0.005340)\n",
      "Accuracy Score for MMScalerDecTree: 0.810811 (0.004966)\n",
      "Accuracy Score for MMScalerSVM: 0.836456 (0.004634)\n",
      "Accuracy Score for MMScalerNB: 0.558315 (0.010559)\n",
      "Accuracy Score for MMScalerKNN: 0.823287 (0.006301)\n"
     ]
    },
    {
     "data": {
      "image/png": "[encoded data removed]",
      "text/plain": [
       "<Figure size 720x504 with 1 Axes>"
      ]
     },
     "metadata": {
      "needs_background": "light"
     },
     "output_type": "display_data"
    }
   ],
   "source": [
    "modelpipe = []\n",
    "modelpipe.append(('MMScalerLogReg', Pipeline([('scaler', MinMaxScaler()), ('LR',LogisticRegression(max_iter = 500, random_state=42))])))\n",
    "modelpipe.append(('MMScalerLDA', Pipeline([('scaler', MinMaxScaler()), ('LDA',LinearDiscriminantAnalysis())])))\n",
    "modelpipe.append(('MMScalerDecTree', Pipeline([('scaler', MinMaxScaler()), ('DecTree',DecisionTreeClassifier(random_state=42))])))\n",
    "modelpipe.append(('MMScalerSVM', Pipeline([('scaler', MinMaxScaler()), ('SVC',SVC(random_state=42))])))\n",
    "modelpipe.append(('MMScalerNB', Pipeline([('scaler', MinMaxScaler()), ('NB',GaussianNB())])))\n",
    "modelpipe.append(('MMScalerKNN', Pipeline([('scaler', MinMaxScaler()), ('KNN',KNeighborsClassifier())])))\n",
    "\n",
    "results = []\n",
    "names = []\n",
    "\n",
    "for name, model in modelpipe:\n",
    "    kfold = KFold (n_splits=10, shuffle = True, random_state=42)\n",
    "    cross_val_results = cross_val_score(model, X_train_modified, y_train_copy, scoring = 'accuracy', cv = kfold)\n",
    "    \n",
    "    results.append(cross_val_results)\n",
    "    names.append(name)\n",
    "    \n",
    "    msg = \"Accuracy Score for %s: %f (%f)\" % (name, cross_val_results.mean(), cross_val_results.std())\n",
    "    print(msg)\n",
    "    \n",
    "# Boxplot to display results: best model without scaling the data is LDA\n",
    "fig = plt.figure(figsize=(10,7))\n",
    "fig.suptitle('Algorithm Spot Check (Scoring: Accuracy) - MinMaxScaler')\n",
    "ax = fig.add_subplot(111)\n",
    "plt.boxplot(results)\n",
    "ax.set_xticklabels(names)\n",
    "plt.show()\n",
    "\n",
    "# Put results into a dataframe\n",
    "df_minmaxscaler = pd.DataFrame(columns = ['MinMax_AvgMean'])\n",
    "for i in np.arange(len(results)):\n",
    "    df_minmaxscaler.loc[i] = results[i].mean()"
   ]
  },
  {
   "cell_type": "markdown",
   "metadata": {},
   "source": [
    "The table below displays the mean accuracy for each model with the modified X_train dataset. General conclusions are:\n",
    "- Similar to the unmodified X_train dataset, the Logistic Regression model with the features transformed using the Standard Scaler achieves the highest mean accuracy (85.03%). \n",
    "- Overall, there is very little difference between the modified and unmodified models (0.03% decrease in accuracy from unmodified to modified X_train using a Standard Scaler). \n",
    "- Naive Bayes performs better with the modified X_train dataset than the unmodified X_train dataset."
   ]
  },
  {
   "cell_type": "code",
   "execution_count": 43,
   "metadata": {},
   "outputs": [
    {
     "name": "stdout",
     "output_type": "stream",
     "text": [
      "Algorithm Comparison (K-Fold Cross Validation with 10 Folds; Modified X_train)\n",
      "\n",
      "            Algorithm  Untranformed_AvgMean  StdScaler_AvgMean  MinMax_AvgMean\n",
      "0            Log. Reg              0.798679           0.850315        0.848011\n",
      "1                 LDA              0.839949           0.839949        0.839949\n",
      "2   Decision Tree CLF              0.811272           0.811157        0.810811\n",
      "3  Support Vector CLF              0.793458           0.849508        0.836456\n",
      "4         Naive Bayes              0.794610           0.521805        0.558315\n",
      "5      KNN Classifier              0.772343           0.822136        0.823287\n"
     ]
    }
   ],
   "source": [
    "# Create dataframe that contains the mean of each algorithm between each transformation\n",
    "names = ['Log. Reg', 'LDA', 'Decision Tree CLF', 'Support Vector CLF',\n",
    "        'Naive Bayes', 'KNN Classifier']\n",
    "\n",
    "df_name = pd.DataFrame(names, columns = ['Algorithm'])\n",
    "\n",
    "df_comparison = pd.concat([df_name, df_untransformed, df_stdscaler, df_minmaxscaler], axis = 1)\n",
    "\n",
    "print(\"Algorithm Comparison (K-Fold Cross Validation with 10 Folds; Modified X_train)\")\n",
    "print()\n",
    "print(df_comparison)"
   ]
  },
  {
   "cell_type": "markdown",
   "metadata": {},
   "source": [
    "# Ensemble Methods: Modified X_train (No transformation)\n",
    "**Accuracy Score Results (mean, std):**\n",
    "- ADA: 0.858261 (0.005517)\n",
    "- GB: 0.863175 (0.005119); *best*\n",
    "- RF: 0.851812 (0.005745)\n",
    "- ET: 0.832617 (0.005110)"
   ]
  },
  {
   "cell_type": "code",
   "execution_count": 44,
   "metadata": {},
   "outputs": [
    {
     "name": "stdout",
     "output_type": "stream",
     "text": [
      "Accuracy Score for ADA: 0.858261 (0.005517)\n",
      "Accuracy Score for GB: 0.863175 (0.005119)\n",
      "Accuracy Score for RF: 0.851812 (0.005745)\n",
      "Accuracy Score for ET: 0.832617 (0.005110)\n"
     ]
    },
    {
     "data": {
      "image/png": "[encoded data removed]",
      "text/plain": [
       "<Figure size 720x504 with 1 Axes>"
      ]
     },
     "metadata": {
      "needs_background": "light"
     },
     "output_type": "display_data"
    }
   ],
   "source": [
    "ensemble = []\n",
    "ensemble.append(('ADA', AdaBoostClassifier(random_state=42)))\n",
    "ensemble.append(('GB', GradientBoostingClassifier(random_state=42)))\n",
    "ensemble.append(('RF', RandomForestClassifier(random_state=42)))\n",
    "ensemble.append(('ET', ExtraTreesClassifier(random_state=42)))\n",
    "            \n",
    "results = []\n",
    "names = []\n",
    "\n",
    "for name, model in ensemble:\n",
    "    kfold = KFold (n_spliths=10, shuffle = True, random_state=42)\n",
    "    cross_val_results = cross_val_score(model, X_train_modified, y_train_copy, scoring = 'accuracy', cv = kfold)\n",
    "    \n",
    "    results.append(cross_val_results)\n",
    "    names.append(name)\n",
    "    \n",
    "    msg = \"Accuracy Score for %s: %f (%f)\" % (name, cross_val_results.mean(), cross_val_results.std())\n",
    "    print(msg)\n",
    "    \n",
    "# Boxplot to display results: best model without scaling the data is LDA\n",
    "fig = plt.figure(figsize=(10,7))\n",
    "fig.suptitle('Algorithm Spot Check (Scoring: Accuracy)')\n",
    "ax = fig.add_subplot(111)\n",
    "plt.boxplot(results)\n",
    "ax.set_xticklabels(names)\n",
    "plt.show()\n",
    "\n",
    "# Put results into a dataframe\n",
    "df_untransformed_ensemble = pd.DataFrame(columns = ['Untranformed_AvgMean'])\n",
    "for i in np.arange(len(results)):\n",
    "    df_untransformed_ensemble.loc[i] = results[i].mean()"
   ]
  },
  {
   "cell_type": "markdown",
   "metadata": {},
   "source": [
    "# Ensemble Methods: Modified X_train (Standard Scaler)\n",
    "**Accuracy Score Results (mean, std):**\n",
    "- StdScalerADA: 0.858261 (0.005517)\n",
    "- StdScalerGB: 0.863175 (0.005119); *best*\n",
    "- StdScalerRF: 0.852311 (0.005637)\n",
    "- StdScalerET: 0.832617 (0.005110)"
   ]
  },
  {
   "cell_type": "code",
   "execution_count": 45,
   "metadata": {},
   "outputs": [
    {
     "name": "stdout",
     "output_type": "stream",
     "text": [
      "Accuracy Score for StdScalerADA: 0.858261 (0.005517)\n",
      "Accuracy Score for StdScalerGB: 0.863175 (0.005119)\n",
      "Accuracy Score for StdScalerRF: 0.852311 (0.005637)\n",
      "Accuracy Score for StdScalerET: 0.832617 (0.005110)\n"
     ]
    },
    {
     "data": {
      "image/png": "[encoded data removed]",
      "text/plain": [
       "<Figure size 720x504 with 1 Axes>"
      ]
     },
     "metadata": {
      "needs_background": "light"
     },
     "output_type": "display_data"
    }
   ],
   "source": [
    "modelpipe_ensemble = []\n",
    "modelpipe_ensemble.append(('StdScalerADA', Pipeline([('scaler', StandardScaler()), ('ADA',AdaBoostClassifier(random_state=42))])))\n",
    "modelpipe_ensemble.append(('StdScalerGB', Pipeline([('scaler', StandardScaler()), ('GB',GradientBoostingClassifier(random_state=42))])))\n",
    "modelpipe_ensemble.append(('StdScalerRF', Pipeline([('scaler', StandardScaler()), ('RF',RandomForestClassifier(random_state=42))])))\n",
    "modelpipe_ensemble.append(('StdScalerET', Pipeline([('scaler', StandardScaler()), ('ET',ExtraTreesClassifier(random_state=42))])))\n",
    "\n",
    "results = []\n",
    "names = []\n",
    "\n",
    "for name, model in modelpipe_ensemble:\n",
    "    kfold = KFold (n_splits=10, shuffle = True, random_state=42)\n",
    "    cross_val_results = cross_val_score(model, X_train_modified, y_train_copy, scoring = 'accuracy', cv = kfold)\n",
    "    \n",
    "    results.append(cross_val_results)\n",
    "    names.append(name)\n",
    "    \n",
    "    msg = \"Accuracy Score for %s: %f (%f)\" % (name, cross_val_results.mean(), cross_val_results.std())\n",
    "    print(msg)\n",
    "    \n",
    "# Boxplot to display results: best model without scaling the data is LDA\n",
    "fig = plt.figure(figsize=(10,7))\n",
    "fig.suptitle('Algorithm Spot Check (Scoring: Accuracy) - Standard Scaler')\n",
    "ax = fig.add_subplot(111)\n",
    "plt.boxplot(results)\n",
    "ax.set_xticklabels(names)\n",
    "plt.show()\n",
    "\n",
    "# Put results into a dataframe\n",
    "df_stdscaler_ensemble = pd.DataFrame(columns = ['StdScaler_AvgMean'])\n",
    "for i in np.arange(len(results)):\n",
    "    df_stdscaler_ensemble.loc[i] = results[i].mean()"
   ]
  },
  {
   "cell_type": "markdown",
   "metadata": {},
   "source": [
    "# Ensemble Methods: Modified X_train (MinMax Scaler)\n",
    "**Accuracy Score Results (mean, std):**\n",
    "- MMScalerADA: 0.858261 (0.005517)\n",
    "- MMScalerGB: 0.863175 (0.005119); *best*\n",
    "- MMScalerRF: 0.851966 (0.005145)\n",
    "- MMScalerET: 0.832617 (0.005110)"
   ]
  },
  {
   "cell_type": "code",
   "execution_count": 46,
   "metadata": {},
   "outputs": [
    {
     "name": "stdout",
     "output_type": "stream",
     "text": [
      "Accuracy Score for MMScalerADA: 0.858261 (0.005517)\n",
      "Accuracy Score for MMScalerGB: 0.863175 (0.005119)\n",
      "Accuracy Score for MMScalerRF: 0.851966 (0.005145)\n",
      "Accuracy Score for MMScalerET: 0.832617 (0.005110)\n"
     ]
    },
    {
     "data": {
      "image/png": "[encoded data removed]",
      "text/plain": [
       "<Figure size 720x504 with 1 Axes>"
      ]
     },
     "metadata": {
      "needs_background": "light"
     },
     "output_type": "display_data"
    }
   ],
   "source": [
    "modelpipe_ensemble = []\n",
    "modelpipe_ensemble.append(('MMScalerADA', Pipeline([('scaler', MinMaxScaler()), ('ADA',AdaBoostClassifier(random_state=42))])))\n",
    "modelpipe_ensemble.append(('MMScalerGB', Pipeline([('scaler', MinMaxScaler()), ('GB',GradientBoostingClassifier(random_state=42))])))\n",
    "modelpipe_ensemble.append(('MMScalerRF', Pipeline([('scaler', MinMaxScaler()), ('RF',RandomForestClassifier(random_state=42))])))\n",
    "modelpipe_ensemble.append(('MMScalerET', Pipeline([('scaler', MinMaxScaler()), ('ET',ExtraTreesClassifier(random_state=42))])))\n",
    "\n",
    "results = []\n",
    "names = []\n",
    "\n",
    "for name, model in modelpipe_ensemble:\n",
    "    kfold = KFold (n_splits=10, shuffle = True, random_state=42)\n",
    "    cross_val_results = cross_val_score(model, X_train_modified, y_train_copy, scoring = 'accuracy', cv = kfold)\n",
    "    \n",
    "    results.append(cross_val_results)\n",
    "    names.append(name)\n",
    "    \n",
    "    msg = \"Accuracy Score for %s: %f (%f)\" % (name, cross_val_results.mean(), cross_val_results.std())\n",
    "    print(msg)\n",
    "    \n",
    "# Boxplot to display results: best model without scaling the data is LDA\n",
    "fig = plt.figure(figsize=(10,7))\n",
    "fig.suptitle('Algorithm Spot Check (Scoring: Accuracy) - MinMax Scaler')\n",
    "ax = fig.add_subplot(111)\n",
    "plt.boxplot(results)\n",
    "ax.set_xticklabels(names)\n",
    "plt.show()\n",
    "\n",
    "# Put results into a dataframe\n",
    "df_MMscaler_ensemble = pd.DataFrame(columns = ['MMScaler_AvgMean'])\n",
    "for i in np.arange(len(results)):\n",
    "    df_MMscaler_ensemble.loc[i] = results[i].mean()"
   ]
  },
  {
   "cell_type": "markdown",
   "metadata": {},
   "source": [
    "The table below displays the mean accuracy for the four ensemble methods for the modified X_train dataset. General conclusions from the table are:\n",
    "- Similar to the unmodified X_train dataset, Gradiant Boosting Classifier (GB) had the highest mean accuracy. \n",
    "- However, the mean accuracy is slightly lower than the GB used with the unmodified X_train dataset regardless of transformation applied (86.32% vs 86.40%)."
   ]
  },
  {
   "cell_type": "code",
   "execution_count": 47,
   "metadata": {},
   "outputs": [
    {
     "name": "stdout",
     "output_type": "stream",
     "text": [
      "  Algorithm  Untranformed_AvgMean  StdScaler_AvgMean  MMScaler_AvgMean\n",
      "0       ADA              0.858261           0.858261          0.858261\n",
      "1        GB              0.863175           0.863175          0.863175\n",
      "2        RF              0.851812           0.852311          0.851966\n",
      "3        ET              0.832617           0.832617          0.832617\n"
     ]
    }
   ],
   "source": [
    "names = ['ADA', 'GB', 'RF', 'ET']\n",
    "df_name_ensemble = pd.DataFrame(names, columns = ['Algorithm'])\n",
    "df_comparison_ensemble = pd.concat([df_name_ensemble,\n",
    "                                    df_untransformed_ensemble, \n",
    "                                    df_stdscaler_ensemble, \n",
    "                                    df_MMscaler_ensemble], axis = 1)\n",
    "print(df_comparison_ensemble)"
   ]
  },
  {
   "cell_type": "markdown",
   "metadata": {},
   "source": [
    "In comparing the unmodified and modified X_train results:\n",
    "- The mean accuracy between the unmodified and modified X_train datasets is minimal. \n",
    "- The modified X_train dataset is simplier (62 features vs 99 features), thus the final model will be fitted on the modified X_train and y_train. \n",
    "- The data will be scaled using the Standard Scaler which had the highest mean accuracy on the Logistic Regression model and is simpler than the Gradian Boost Classifier."
   ]
  },
  {
   "cell_type": "markdown",
   "metadata": {},
   "source": [
    "# Fine Tune Logistic Regression Model: Modified X_train\n",
    "**Best parameters for Logistic Regression Model:**\n",
    "- C: 0.1\n",
    "- Max_iter: 500\n",
    "- Highest mean accuracy: 0.850468 = 85.04%"
   ]
  },
  {
   "cell_type": "code",
   "execution_count": 48,
   "metadata": {},
   "outputs": [
    {
     "name": "stdout",
     "output_type": "stream",
     "text": [
      "Best Accuracy 0.850468 using {'C': 0.1, 'max_iter': 500}:\n",
      "0.840448 (0.005941) with {'C': 0.001, 'max_iter': 500}\n",
      "0.840448 (0.005941) with {'C': 0.001, 'max_iter': 600}\n",
      "0.840448 (0.005941) with {'C': 0.001, 'max_iter': 700}\n",
      "0.840448 (0.005941) with {'C': 0.001, 'max_iter': 800}\n",
      "0.840448 (0.005941) with {'C': 0.001, 'max_iter': 900}\n",
      "0.840448 (0.005941) with {'C': 0.001, 'max_iter': 1000}\n",
      "0.848741 (0.006839) with {'C': 0.01, 'max_iter': 500}\n",
      "0.848741 (0.006839) with {'C': 0.01, 'max_iter': 600}\n",
      "0.848741 (0.006839) with {'C': 0.01, 'max_iter': 700}\n",
      "0.848741 (0.006839) with {'C': 0.01, 'max_iter': 800}\n",
      "0.848741 (0.006839) with {'C': 0.01, 'max_iter': 900}\n",
      "0.848741 (0.006839) with {'C': 0.01, 'max_iter': 1000}\n",
      "0.850468 (0.006660) with {'C': 0.1, 'max_iter': 500}\n",
      "0.850468 (0.006660) with {'C': 0.1, 'max_iter': 600}\n",
      "0.850468 (0.006660) with {'C': 0.1, 'max_iter': 700}\n",
      "0.850468 (0.006660) with {'C': 0.1, 'max_iter': 800}\n",
      "0.850468 (0.006660) with {'C': 0.1, 'max_iter': 900}\n",
      "0.850468 (0.006660) with {'C': 0.1, 'max_iter': 1000}\n",
      "0.850315 (0.006880) with {'C': 1.0, 'max_iter': 500}\n",
      "0.850315 (0.006880) with {'C': 1.0, 'max_iter': 600}\n",
      "0.850315 (0.006880) with {'C': 1.0, 'max_iter': 700}\n",
      "0.850315 (0.006880) with {'C': 1.0, 'max_iter': 800}\n",
      "0.850315 (0.006880) with {'C': 1.0, 'max_iter': 900}\n",
      "0.850315 (0.006880) with {'C': 1.0, 'max_iter': 1000}\n",
      "0.850315 (0.006953) with {'C': 10.0, 'max_iter': 500}\n",
      "0.850315 (0.006953) with {'C': 10.0, 'max_iter': 600}\n",
      "0.850315 (0.006953) with {'C': 10.0, 'max_iter': 700}\n",
      "0.850315 (0.006953) with {'C': 10.0, 'max_iter': 800}\n",
      "0.850315 (0.006953) with {'C': 10.0, 'max_iter': 900}\n",
      "0.850315 (0.006953) with {'C': 10.0, 'max_iter': 1000}\n",
      "0.850353 (0.006998) with {'C': 100.0, 'max_iter': 500}\n",
      "0.850353 (0.006998) with {'C': 100.0, 'max_iter': 600}\n",
      "0.850353 (0.006998) with {'C': 100.0, 'max_iter': 700}\n",
      "0.850353 (0.006998) with {'C': 100.0, 'max_iter': 800}\n",
      "0.850353 (0.006998) with {'C': 100.0, 'max_iter': 900}\n",
      "0.850353 (0.006998) with {'C': 100.0, 'max_iter': 1000}\n",
      "0.850353 (0.006998) with {'C': 1000.0, 'max_iter': 500}\n",
      "0.850353 (0.006998) with {'C': 1000.0, 'max_iter': 600}\n",
      "0.850353 (0.006998) with {'C': 1000.0, 'max_iter': 700}\n",
      "0.850353 (0.006998) with {'C': 1000.0, 'max_iter': 800}\n",
      "0.850353 (0.006998) with {'C': 1000.0, 'max_iter': 900}\n",
      "0.850353 (0.006998) with {'C': 1000.0, 'max_iter': 1000}\n"
     ]
    }
   ],
   "source": [
    "# Scale data with Standard Scaler since that had the best performance in regard to accuracy\n",
    "scaler = StandardScaler()\n",
    "rescaledX_train = scaler.fit_transform(X_train_modified)\n",
    "\n",
    "# Parameter grid\n",
    "pg = {'C': np.logspace(-3,3,7),\n",
    "     'max_iter': [500, 600, 700, 800, 900, 1000]}\n",
    "\n",
    "# Logistic regression instance\n",
    "model = LogisticRegression()\n",
    "\n",
    "# K-fold\n",
    "kfold = KFold(n_splits=10, shuffle = True, random_state=42)\n",
    "\n",
    "# Grid search\n",
    "grid = GridSearchCV(estimator = model, param_grid = pg, scoring = 'accuracy', cv = kfold)\n",
    "grid.fit(rescaledX_train, y_train_copy)\n",
    "\n",
    "# Check best parameters\n",
    "print(\"Best Accuracy %f using %s:\" % (grid.best_score_, grid.best_params_))\n",
    "\n",
    "means = grid.cv_results_['mean_test_score']\n",
    "stds = grid.cv_results_['std_test_score']\n",
    "params = grid.cv_results_['params']\n",
    "\n",
    "for mean, std, param in zip(means, stds, params):\n",
    "    print(\"%f (%f) with %r\" % (mean, std, param))"
   ]
  },
  {
   "cell_type": "markdown",
   "metadata": {},
   "source": [
    "# Finalize model\n",
    "The final model is a Logistic Regression model fitted on the modified X_train data using the best parameters from GridSearch. Predictions will be made on X_test_modified and compared to y_test_copy, which is simply a copy of y_test."
   ]
  },
  {
   "cell_type": "code",
   "execution_count": 49,
   "metadata": {},
   "outputs": [],
   "source": [
    "# Modifying X_test_copy by mapping the continent dictionary\n",
    "X_test_copy['Native_continent'] = X_test_copy['Native_country'].map(continent_dict)\n",
    "\n",
    "# Drop 'Native_country'\n",
    "X_test_modified = X_test_copy.drop('Native_country', axis = 1)\n",
    "\n",
    "# Get Dummies\n",
    "X_test_modified = pd.get_dummies(X_test_modified, drop_first=True)\n",
    "X_test_modified.shape\n",
    "\n",
    "# Binarizing y_train_copy and y_test_copy\n",
    "label_binarizer = LabelBinarizer()\n",
    "y_train_copy = label_binarizer.fit_transform(y_train_copy).ravel()\n",
    "y_test_copy = label_binarizer.fit_transform(y_test_copy).ravel()"
   ]
  },
  {
   "cell_type": "code",
   "execution_count": 50,
   "metadata": {},
   "outputs": [
    {
     "name": "stdout",
     "output_type": "stream",
     "text": [
      "(26048, 62)\n",
      "(6513, 62)\n",
      "(26048,)\n",
      "(6513,)\n"
     ]
    }
   ],
   "source": [
    "# Check shapes before putting into model (ensure same # of features in each X_train/test)\n",
    "print(X_train_modified.shape)\n",
    "print(X_test_modified.shape)\n",
    "print(y_train_copy.shape)\n",
    "print(y_test_copy.shape)"
   ]
  },
  {
   "cell_type": "code",
   "execution_count": 51,
   "metadata": {},
   "outputs": [],
   "source": [
    "# Fit final model\n",
    "\n",
    "\n",
    "# Standard Scaler on Training\n",
    "scaler = StandardScaler()\n",
    "rescaledX_train = scaler.fit_transform(X_train_modified)\n",
    "\n",
    "# Standard Scaler on Testing\n",
    "rescaledX_test = scaler.transform(X_test_modified)\n",
    "\n",
    "# Logistic Regression\n",
    "model = LogisticRegression(C = 1.0, max_iter=500, random_state=42)\n",
    "model.fit(rescaledX_train, y_train_copy)\n",
    "y_pred = model.predict(rescaledX_test)"
   ]
  },
  {
   "cell_type": "code",
   "execution_count": 52,
   "metadata": {},
   "outputs": [
    {
     "name": "stdout",
     "output_type": "stream",
     "text": [
      "Accuracy: 0.855366190695532\n",
      "\n",
      "Confusion Matrix:\n",
      "[[4599  346]\n",
      " [ 596  972]]\n",
      "\n",
      "Classification Report:\n",
      "              precision    recall  f1-score   support\n",
      "\n",
      "           0       0.89      0.93      0.91      4945\n",
      "           1       0.74      0.62      0.67      1568\n",
      "\n",
      "    accuracy                           0.86      6513\n",
      "   macro avg       0.81      0.77      0.79      6513\n",
      "weighted avg       0.85      0.86      0.85      6513\n",
      "\n"
     ]
    }
   ],
   "source": [
    "# Accuracy score\n",
    "print(\"Accuracy:\", accuracy_score(y_test_copy, y_pred))\n",
    "\n",
    "# Confusion Matrix\n",
    "print(\"\\nConfusion Matrix:\")\n",
    "print(confusion_matrix(y_test_copy, y_pred))\n",
    "\n",
    "# Classification Report\n",
    "print(\"\\nClassification Report:\")\n",
    "print(classification_report(y_test_copy, y_pred))"
   ]
  },
  {
   "cell_type": "markdown",
   "metadata": {},
   "source": [
    "- The final Logistic Regression model has an accuracy of 85.5%. \n",
    "- The Confusion Matrix and Classification Report indicates the model has the most difficulty classifying individuals who make more than $50k/yr.\n",
    "- Further analysis should implement additional feature engineering on the other categorical variables. Some variables of interests would be Occupation, Marital Status, and Working Class.\n",
    "- Additionally, correcting the class imbalance may result in a better model. Stratifying during train-test-split may not be enough to overcome imbalances between classes."
   ]
  }
 ],
 "metadata": {
  "kernelspec": {
   "display_name": "Python 3",
   "language": "python",
   "name": "python3"
  },
  "language_info": {
   "codemirror_mode": {
    "name": "ipython",
    "version": 3
   },
   "file_extension": ".py",
   "mimetype": "text/x-python",
   "name": "python",
   "nbconvert_exporter": "python",
   "pygments_lexer": "ipython3",
   "version": "3.8.5"
  }
 },
 "nbformat": 4,
 "nbformat_minor": 4
}
